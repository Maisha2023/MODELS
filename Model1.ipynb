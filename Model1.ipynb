{
  "nbformat": 4,
  "nbformat_minor": 0,
  "metadata": {
    "colab": {
      "provenance": [],
      "gpuType": "T4",
      "authorship_tag": "ABX9TyO/+k8014z2pSm5i4LgAEtc",
      "include_colab_link": true
    },
    "kernelspec": {
      "name": "python3",
      "display_name": "Python 3"
    },
    "language_info": {
      "name": "python"
    },
    "accelerator": "GPU"
  },
  "cells": [
    {
      "cell_type": "markdown",
      "metadata": {
        "id": "view-in-github",
        "colab_type": "text"
      },
      "source": [
        "<a href=\"https://colab.research.google.com/github/Maisha2023/MODELS/blob/main/Model1.ipynb\" target=\"_parent\"><img src=\"https://colab.research.google.com/assets/colab-badge.svg\" alt=\"Open In Colab\"/></a>"
      ]
    },
    {
      "cell_type": "code",
      "execution_count": 1,
      "metadata": {
        "colab": {
          "base_uri": "https://localhost:8080/"
        },
        "id": "UkLzu9Pb0WmR",
        "outputId": "22d9557b-9fb0-4f36-f1e4-3e58cf3b75de"
      },
      "outputs": [
        {
          "output_type": "stream",
          "name": "stdout",
          "text": [
            "/bin/bash: nvidia-smi: command not found\n"
          ]
        }
      ],
      "source": [
        "!nvidia-smi\n"
      ]
    },
    {
      "cell_type": "code",
      "source": [
        "from google.colab import drive\n",
        "drive.mount('/content/drive')"
      ],
      "metadata": {
        "colab": {
          "base_uri": "https://localhost:8080/"
        },
        "id": "FwoSLOWM0c80",
        "outputId": "926ce4db-7a6c-4ddc-b808-a58a4ad3c591"
      },
      "execution_count": 2,
      "outputs": [
        {
          "output_type": "stream",
          "name": "stdout",
          "text": [
            "Drive already mounted at /content/drive; to attempt to forcibly remount, call drive.mount(\"/content/drive\", force_remount=True).\n"
          ]
        }
      ]
    },
    {
      "cell_type": "code",
      "source": [],
      "metadata": {
        "id": "44uBrm0E0kuN"
      },
      "execution_count": 2,
      "outputs": []
    },
    {
      "cell_type": "code",
      "execution_count": 3,
      "metadata": {
        "id": "PxxRCRmoEXGv"
      },
      "outputs": [],
      "source": [
        "import numpy as np\n",
        "import cv2\n",
        "import os\n",
        "import pandas as pd\n"
      ]
    },
    {
      "cell_type": "code",
      "execution_count": 4,
      "metadata": {
        "id": "-InGAyx9JYmj"
      },
      "outputs": [],
      "source": [
        "\n",
        "import pandas as pd\n",
        "train_dir = '/content/drive/MyDrive/unetat'\n",
        "df = pd.read_csv('/content/sample_data/data.csv')"
      ]
    },
    {
      "cell_type": "code",
      "execution_count": 5,
      "metadata": {
        "id": "pwpxM2gtI9HK"
      },
      "outputs": [],
      "source": [
        "df.drop(df[(df['id'] == 7144)].index, inplace=True)\n",
        "df.drop(df[(df['id'] == 7144)].index, inplace=True)\n"
      ]
    },
    {
      "cell_type": "code",
      "source": [
        "df = df.groupby(['boneage']).apply(lambda x: x.sample(15, replace = True)\n",
        "                                                      ).reset_index(drop = True)"
      ],
      "metadata": {
        "id": "Jyf6JmhdTNAK"
      },
      "execution_count": 6,
      "outputs": []
    },
    {
      "cell_type": "code",
      "source": [
        "df['boneage'] = df['boneage'].astype('int')"
      ],
      "metadata": {
        "id": "vtPqmbAWTTCu"
      },
      "execution_count": 7,
      "outputs": []
    },
    {
      "cell_type": "code",
      "source": [
        "df"
      ],
      "metadata": {
        "colab": {
          "base_uri": "https://localhost:8080/",
          "height": 423
        },
        "id": "1TmXB5J9TTJE",
        "outputId": "cc177d5d-0ce0-47fb-eed0-5e2bd9f664da"
      },
      "execution_count": 8,
      "outputs": [
        {
          "output_type": "execute_result",
          "data": {
            "text/plain": [
              "       Unnamed: 0    id  boneage  gender\n",
              "0             504  5574        0       1\n",
              "1             504  5574        0       1\n",
              "2             504  5574        0       1\n",
              "3             504  5574        0       1\n",
              "4             504  5574        0       1\n",
              "...           ...   ...      ...     ...\n",
              "15715        1225  5198      228       0\n",
              "15716        1225  5198      228       0\n",
              "15717        1225  5198      228       0\n",
              "15718        1225  5198      228       0\n",
              "15719        1225  5198      228       0\n",
              "\n",
              "[15720 rows x 4 columns]"
            ],
            "text/html": [
              "\n",
              "  <div id=\"df-36e57012-5627-484a-b327-f349e63bbe2e\">\n",
              "    <div class=\"colab-df-container\">\n",
              "      <div>\n",
              "<style scoped>\n",
              "    .dataframe tbody tr th:only-of-type {\n",
              "        vertical-align: middle;\n",
              "    }\n",
              "\n",
              "    .dataframe tbody tr th {\n",
              "        vertical-align: top;\n",
              "    }\n",
              "\n",
              "    .dataframe thead th {\n",
              "        text-align: right;\n",
              "    }\n",
              "</style>\n",
              "<table border=\"1\" class=\"dataframe\">\n",
              "  <thead>\n",
              "    <tr style=\"text-align: right;\">\n",
              "      <th></th>\n",
              "      <th>Unnamed: 0</th>\n",
              "      <th>id</th>\n",
              "      <th>boneage</th>\n",
              "      <th>gender</th>\n",
              "    </tr>\n",
              "  </thead>\n",
              "  <tbody>\n",
              "    <tr>\n",
              "      <th>0</th>\n",
              "      <td>504</td>\n",
              "      <td>5574</td>\n",
              "      <td>0</td>\n",
              "      <td>1</td>\n",
              "    </tr>\n",
              "    <tr>\n",
              "      <th>1</th>\n",
              "      <td>504</td>\n",
              "      <td>5574</td>\n",
              "      <td>0</td>\n",
              "      <td>1</td>\n",
              "    </tr>\n",
              "    <tr>\n",
              "      <th>2</th>\n",
              "      <td>504</td>\n",
              "      <td>5574</td>\n",
              "      <td>0</td>\n",
              "      <td>1</td>\n",
              "    </tr>\n",
              "    <tr>\n",
              "      <th>3</th>\n",
              "      <td>504</td>\n",
              "      <td>5574</td>\n",
              "      <td>0</td>\n",
              "      <td>1</td>\n",
              "    </tr>\n",
              "    <tr>\n",
              "      <th>4</th>\n",
              "      <td>504</td>\n",
              "      <td>5574</td>\n",
              "      <td>0</td>\n",
              "      <td>1</td>\n",
              "    </tr>\n",
              "    <tr>\n",
              "      <th>...</th>\n",
              "      <td>...</td>\n",
              "      <td>...</td>\n",
              "      <td>...</td>\n",
              "      <td>...</td>\n",
              "    </tr>\n",
              "    <tr>\n",
              "      <th>15715</th>\n",
              "      <td>1225</td>\n",
              "      <td>5198</td>\n",
              "      <td>228</td>\n",
              "      <td>0</td>\n",
              "    </tr>\n",
              "    <tr>\n",
              "      <th>15716</th>\n",
              "      <td>1225</td>\n",
              "      <td>5198</td>\n",
              "      <td>228</td>\n",
              "      <td>0</td>\n",
              "    </tr>\n",
              "    <tr>\n",
              "      <th>15717</th>\n",
              "      <td>1225</td>\n",
              "      <td>5198</td>\n",
              "      <td>228</td>\n",
              "      <td>0</td>\n",
              "    </tr>\n",
              "    <tr>\n",
              "      <th>15718</th>\n",
              "      <td>1225</td>\n",
              "      <td>5198</td>\n",
              "      <td>228</td>\n",
              "      <td>0</td>\n",
              "    </tr>\n",
              "    <tr>\n",
              "      <th>15719</th>\n",
              "      <td>1225</td>\n",
              "      <td>5198</td>\n",
              "      <td>228</td>\n",
              "      <td>0</td>\n",
              "    </tr>\n",
              "  </tbody>\n",
              "</table>\n",
              "<p>15720 rows × 4 columns</p>\n",
              "</div>\n",
              "      <button class=\"colab-df-convert\" onclick=\"convertToInteractive('df-36e57012-5627-484a-b327-f349e63bbe2e')\"\n",
              "              title=\"Convert this dataframe to an interactive table.\"\n",
              "              style=\"display:none;\">\n",
              "        \n",
              "  <svg xmlns=\"http://www.w3.org/2000/svg\" height=\"24px\"viewBox=\"0 0 24 24\"\n",
              "       width=\"24px\">\n",
              "    <path d=\"M0 0h24v24H0V0z\" fill=\"none\"/>\n",
              "    <path d=\"M18.56 5.44l.94 2.06.94-2.06 2.06-.94-2.06-.94-.94-2.06-.94 2.06-2.06.94zm-11 1L8.5 8.5l.94-2.06 2.06-.94-2.06-.94L8.5 2.5l-.94 2.06-2.06.94zm10 10l.94 2.06.94-2.06 2.06-.94-2.06-.94-.94-2.06-.94 2.06-2.06.94z\"/><path d=\"M17.41 7.96l-1.37-1.37c-.4-.4-.92-.59-1.43-.59-.52 0-1.04.2-1.43.59L10.3 9.45l-7.72 7.72c-.78.78-.78 2.05 0 2.83L4 21.41c.39.39.9.59 1.41.59.51 0 1.02-.2 1.41-.59l7.78-7.78 2.81-2.81c.8-.78.8-2.07 0-2.86zM5.41 20L4 18.59l7.72-7.72 1.47 1.35L5.41 20z\"/>\n",
              "  </svg>\n",
              "      </button>\n",
              "      \n",
              "  <style>\n",
              "    .colab-df-container {\n",
              "      display:flex;\n",
              "      flex-wrap:wrap;\n",
              "      gap: 12px;\n",
              "    }\n",
              "\n",
              "    .colab-df-convert {\n",
              "      background-color: #E8F0FE;\n",
              "      border: none;\n",
              "      border-radius: 50%;\n",
              "      cursor: pointer;\n",
              "      display: none;\n",
              "      fill: #1967D2;\n",
              "      height: 32px;\n",
              "      padding: 0 0 0 0;\n",
              "      width: 32px;\n",
              "    }\n",
              "\n",
              "    .colab-df-convert:hover {\n",
              "      background-color: #E2EBFA;\n",
              "      box-shadow: 0px 1px 2px rgba(60, 64, 67, 0.3), 0px 1px 3px 1px rgba(60, 64, 67, 0.15);\n",
              "      fill: #174EA6;\n",
              "    }\n",
              "\n",
              "    [theme=dark] .colab-df-convert {\n",
              "      background-color: #3B4455;\n",
              "      fill: #D2E3FC;\n",
              "    }\n",
              "\n",
              "    [theme=dark] .colab-df-convert:hover {\n",
              "      background-color: #434B5C;\n",
              "      box-shadow: 0px 1px 3px 1px rgba(0, 0, 0, 0.15);\n",
              "      filter: drop-shadow(0px 1px 2px rgba(0, 0, 0, 0.3));\n",
              "      fill: #FFFFFF;\n",
              "    }\n",
              "  </style>\n",
              "\n",
              "      <script>\n",
              "        const buttonEl =\n",
              "          document.querySelector('#df-36e57012-5627-484a-b327-f349e63bbe2e button.colab-df-convert');\n",
              "        buttonEl.style.display =\n",
              "          google.colab.kernel.accessAllowed ? 'block' : 'none';\n",
              "\n",
              "        async function convertToInteractive(key) {\n",
              "          const element = document.querySelector('#df-36e57012-5627-484a-b327-f349e63bbe2e');\n",
              "          const dataTable =\n",
              "            await google.colab.kernel.invokeFunction('convertToInteractive',\n",
              "                                                     [key], {});\n",
              "          if (!dataTable) return;\n",
              "\n",
              "          const docLinkHtml = 'Like what you see? Visit the ' +\n",
              "            '<a target=\"_blank\" href=https://colab.research.google.com/notebooks/data_table.ipynb>data table notebook</a>'\n",
              "            + ' to learn more about interactive tables.';\n",
              "          element.innerHTML = '';\n",
              "          dataTable['output_type'] = 'display_data';\n",
              "          await google.colab.output.renderOutput(dataTable, element);\n",
              "          const docLink = document.createElement('div');\n",
              "          docLink.innerHTML = docLinkHtml;\n",
              "          element.appendChild(docLink);\n",
              "        }\n",
              "      </script>\n",
              "    </div>\n",
              "  </div>\n",
              "  "
            ]
          },
          "metadata": {},
          "execution_count": 8
        }
      ]
    },
    {
      "cell_type": "code",
      "execution_count": 9,
      "metadata": {
        "id": "F0wC42Er279Q"
      },
      "outputs": [],
      "source": [
        "import os\n",
        "age_df = df\n",
        "age_df['path'] = age_df['id'].map(lambda x: os.path.join(train_dir,\n",
        "                                                         '{}.jpg'.format(x)))\n",
        "#age_df['exists'] = age_df['path'].map(os.path.exists)"
      ]
    },
    {
      "cell_type": "code",
      "execution_count": 10,
      "metadata": {
        "id": "IiJgKNhOemjz"
      },
      "outputs": [],
      "source": [
        "age1=age_df"
      ]
    },
    {
      "cell_type": "code",
      "source": [
        "age1"
      ],
      "metadata": {
        "colab": {
          "base_uri": "https://localhost:8080/",
          "height": 423
        },
        "id": "ywO4AZnnSSFB",
        "outputId": "af93d2d1-63e5-4b71-f169-493b32f3d96e"
      },
      "execution_count": 14,
      "outputs": [
        {
          "output_type": "execute_result",
          "data": {
            "text/plain": [
              "       Unnamed: 0    id  boneage  gender  \\\n",
              "0             504  5574        0       1   \n",
              "1             504  5574        0       1   \n",
              "2             504  5574        0       1   \n",
              "3             504  5574        0       1   \n",
              "4             504  5574        0       1   \n",
              "...           ...   ...      ...     ...   \n",
              "15715        1225  5198      228       0   \n",
              "15716        1225  5198      228       0   \n",
              "15717        1225  5198      228       0   \n",
              "15718        1225  5198      228       0   \n",
              "15719        1225  5198      228       0   \n",
              "\n",
              "                                         path  \n",
              "0      /content/drive/MyDrive/unetat/5574.jpg  \n",
              "1      /content/drive/MyDrive/unetat/5574.jpg  \n",
              "2      /content/drive/MyDrive/unetat/5574.jpg  \n",
              "3      /content/drive/MyDrive/unetat/5574.jpg  \n",
              "4      /content/drive/MyDrive/unetat/5574.jpg  \n",
              "...                                       ...  \n",
              "15715  /content/drive/MyDrive/unetat/5198.jpg  \n",
              "15716  /content/drive/MyDrive/unetat/5198.jpg  \n",
              "15717  /content/drive/MyDrive/unetat/5198.jpg  \n",
              "15718  /content/drive/MyDrive/unetat/5198.jpg  \n",
              "15719  /content/drive/MyDrive/unetat/5198.jpg  \n",
              "\n",
              "[15720 rows x 5 columns]"
            ],
            "text/html": [
              "\n",
              "  <div id=\"df-f16ef284-bf08-4efc-b53b-9a3d330d9f58\">\n",
              "    <div class=\"colab-df-container\">\n",
              "      <div>\n",
              "<style scoped>\n",
              "    .dataframe tbody tr th:only-of-type {\n",
              "        vertical-align: middle;\n",
              "    }\n",
              "\n",
              "    .dataframe tbody tr th {\n",
              "        vertical-align: top;\n",
              "    }\n",
              "\n",
              "    .dataframe thead th {\n",
              "        text-align: right;\n",
              "    }\n",
              "</style>\n",
              "<table border=\"1\" class=\"dataframe\">\n",
              "  <thead>\n",
              "    <tr style=\"text-align: right;\">\n",
              "      <th></th>\n",
              "      <th>Unnamed: 0</th>\n",
              "      <th>id</th>\n",
              "      <th>boneage</th>\n",
              "      <th>gender</th>\n",
              "      <th>path</th>\n",
              "    </tr>\n",
              "  </thead>\n",
              "  <tbody>\n",
              "    <tr>\n",
              "      <th>0</th>\n",
              "      <td>504</td>\n",
              "      <td>5574</td>\n",
              "      <td>0</td>\n",
              "      <td>1</td>\n",
              "      <td>/content/drive/MyDrive/unetat/5574.jpg</td>\n",
              "    </tr>\n",
              "    <tr>\n",
              "      <th>1</th>\n",
              "      <td>504</td>\n",
              "      <td>5574</td>\n",
              "      <td>0</td>\n",
              "      <td>1</td>\n",
              "      <td>/content/drive/MyDrive/unetat/5574.jpg</td>\n",
              "    </tr>\n",
              "    <tr>\n",
              "      <th>2</th>\n",
              "      <td>504</td>\n",
              "      <td>5574</td>\n",
              "      <td>0</td>\n",
              "      <td>1</td>\n",
              "      <td>/content/drive/MyDrive/unetat/5574.jpg</td>\n",
              "    </tr>\n",
              "    <tr>\n",
              "      <th>3</th>\n",
              "      <td>504</td>\n",
              "      <td>5574</td>\n",
              "      <td>0</td>\n",
              "      <td>1</td>\n",
              "      <td>/content/drive/MyDrive/unetat/5574.jpg</td>\n",
              "    </tr>\n",
              "    <tr>\n",
              "      <th>4</th>\n",
              "      <td>504</td>\n",
              "      <td>5574</td>\n",
              "      <td>0</td>\n",
              "      <td>1</td>\n",
              "      <td>/content/drive/MyDrive/unetat/5574.jpg</td>\n",
              "    </tr>\n",
              "    <tr>\n",
              "      <th>...</th>\n",
              "      <td>...</td>\n",
              "      <td>...</td>\n",
              "      <td>...</td>\n",
              "      <td>...</td>\n",
              "      <td>...</td>\n",
              "    </tr>\n",
              "    <tr>\n",
              "      <th>15715</th>\n",
              "      <td>1225</td>\n",
              "      <td>5198</td>\n",
              "      <td>228</td>\n",
              "      <td>0</td>\n",
              "      <td>/content/drive/MyDrive/unetat/5198.jpg</td>\n",
              "    </tr>\n",
              "    <tr>\n",
              "      <th>15716</th>\n",
              "      <td>1225</td>\n",
              "      <td>5198</td>\n",
              "      <td>228</td>\n",
              "      <td>0</td>\n",
              "      <td>/content/drive/MyDrive/unetat/5198.jpg</td>\n",
              "    </tr>\n",
              "    <tr>\n",
              "      <th>15717</th>\n",
              "      <td>1225</td>\n",
              "      <td>5198</td>\n",
              "      <td>228</td>\n",
              "      <td>0</td>\n",
              "      <td>/content/drive/MyDrive/unetat/5198.jpg</td>\n",
              "    </tr>\n",
              "    <tr>\n",
              "      <th>15718</th>\n",
              "      <td>1225</td>\n",
              "      <td>5198</td>\n",
              "      <td>228</td>\n",
              "      <td>0</td>\n",
              "      <td>/content/drive/MyDrive/unetat/5198.jpg</td>\n",
              "    </tr>\n",
              "    <tr>\n",
              "      <th>15719</th>\n",
              "      <td>1225</td>\n",
              "      <td>5198</td>\n",
              "      <td>228</td>\n",
              "      <td>0</td>\n",
              "      <td>/content/drive/MyDrive/unetat/5198.jpg</td>\n",
              "    </tr>\n",
              "  </tbody>\n",
              "</table>\n",
              "<p>15720 rows × 5 columns</p>\n",
              "</div>\n",
              "      <button class=\"colab-df-convert\" onclick=\"convertToInteractive('df-f16ef284-bf08-4efc-b53b-9a3d330d9f58')\"\n",
              "              title=\"Convert this dataframe to an interactive table.\"\n",
              "              style=\"display:none;\">\n",
              "        \n",
              "  <svg xmlns=\"http://www.w3.org/2000/svg\" height=\"24px\"viewBox=\"0 0 24 24\"\n",
              "       width=\"24px\">\n",
              "    <path d=\"M0 0h24v24H0V0z\" fill=\"none\"/>\n",
              "    <path d=\"M18.56 5.44l.94 2.06.94-2.06 2.06-.94-2.06-.94-.94-2.06-.94 2.06-2.06.94zm-11 1L8.5 8.5l.94-2.06 2.06-.94-2.06-.94L8.5 2.5l-.94 2.06-2.06.94zm10 10l.94 2.06.94-2.06 2.06-.94-2.06-.94-.94-2.06-.94 2.06-2.06.94z\"/><path d=\"M17.41 7.96l-1.37-1.37c-.4-.4-.92-.59-1.43-.59-.52 0-1.04.2-1.43.59L10.3 9.45l-7.72 7.72c-.78.78-.78 2.05 0 2.83L4 21.41c.39.39.9.59 1.41.59.51 0 1.02-.2 1.41-.59l7.78-7.78 2.81-2.81c.8-.78.8-2.07 0-2.86zM5.41 20L4 18.59l7.72-7.72 1.47 1.35L5.41 20z\"/>\n",
              "  </svg>\n",
              "      </button>\n",
              "      \n",
              "  <style>\n",
              "    .colab-df-container {\n",
              "      display:flex;\n",
              "      flex-wrap:wrap;\n",
              "      gap: 12px;\n",
              "    }\n",
              "\n",
              "    .colab-df-convert {\n",
              "      background-color: #E8F0FE;\n",
              "      border: none;\n",
              "      border-radius: 50%;\n",
              "      cursor: pointer;\n",
              "      display: none;\n",
              "      fill: #1967D2;\n",
              "      height: 32px;\n",
              "      padding: 0 0 0 0;\n",
              "      width: 32px;\n",
              "    }\n",
              "\n",
              "    .colab-df-convert:hover {\n",
              "      background-color: #E2EBFA;\n",
              "      box-shadow: 0px 1px 2px rgba(60, 64, 67, 0.3), 0px 1px 3px 1px rgba(60, 64, 67, 0.15);\n",
              "      fill: #174EA6;\n",
              "    }\n",
              "\n",
              "    [theme=dark] .colab-df-convert {\n",
              "      background-color: #3B4455;\n",
              "      fill: #D2E3FC;\n",
              "    }\n",
              "\n",
              "    [theme=dark] .colab-df-convert:hover {\n",
              "      background-color: #434B5C;\n",
              "      box-shadow: 0px 1px 3px 1px rgba(0, 0, 0, 0.15);\n",
              "      filter: drop-shadow(0px 1px 2px rgba(0, 0, 0, 0.3));\n",
              "      fill: #FFFFFF;\n",
              "    }\n",
              "  </style>\n",
              "\n",
              "      <script>\n",
              "        const buttonEl =\n",
              "          document.querySelector('#df-f16ef284-bf08-4efc-b53b-9a3d330d9f58 button.colab-df-convert');\n",
              "        buttonEl.style.display =\n",
              "          google.colab.kernel.accessAllowed ? 'block' : 'none';\n",
              "\n",
              "        async function convertToInteractive(key) {\n",
              "          const element = document.querySelector('#df-f16ef284-bf08-4efc-b53b-9a3d330d9f58');\n",
              "          const dataTable =\n",
              "            await google.colab.kernel.invokeFunction('convertToInteractive',\n",
              "                                                     [key], {});\n",
              "          if (!dataTable) return;\n",
              "\n",
              "          const docLinkHtml = 'Like what you see? Visit the ' +\n",
              "            '<a target=\"_blank\" href=https://colab.research.google.com/notebooks/data_table.ipynb>data table notebook</a>'\n",
              "            + ' to learn more about interactive tables.';\n",
              "          element.innerHTML = '';\n",
              "          dataTable['output_type'] = 'display_data';\n",
              "          await google.colab.output.renderOutput(dataTable, element);\n",
              "          const docLink = document.createElement('div');\n",
              "          docLink.innerHTML = docLinkHtml;\n",
              "          element.appendChild(docLink);\n",
              "        }\n",
              "      </script>\n",
              "    </div>\n",
              "  </div>\n",
              "  "
            ]
          },
          "metadata": {},
          "execution_count": 14
        }
      ]
    },
    {
      "cell_type": "code",
      "execution_count": 11,
      "metadata": {
        "colab": {
          "base_uri": "https://localhost:8080/"
        },
        "id": "IByBweEq1KOG",
        "outputId": "c516b94a-d831-4967-b71b-9439a7869604"
      },
      "outputs": [
        {
          "output_type": "execute_result",
          "data": {
            "text/plain": [
              "(225,)"
            ]
          },
          "metadata": {},
          "execution_count": 11
        }
      ],
      "source": [
        "ag=age1.boneage.unique()\n",
        "ag.shape"
      ]
    },
    {
      "cell_type": "code",
      "execution_count": 12,
      "metadata": {
        "id": "yLL4AuOJep07"
      },
      "outputs": [],
      "source": [
        "age1.drop(df[(age1['gender'] == 0)].index, inplace=True)"
      ]
    },
    {
      "cell_type": "code",
      "execution_count": 13,
      "metadata": {
        "colab": {
          "base_uri": "https://localhost:8080/",
          "height": 423
        },
        "id": "lAI7P_cEes6s",
        "outputId": "51dffd71-e914-46fb-f569-c6d2d8b21237"
      },
      "outputs": [
        {
          "output_type": "execute_result",
          "data": {
            "text/plain": [
              "       Unnamed: 0    id  boneage  gender  \\\n",
              "0             504  5574        0       1   \n",
              "1             504  5574        0       1   \n",
              "2             504  5574        0       1   \n",
              "3             504  5574        0       1   \n",
              "4             504  5574        0       1   \n",
              "...           ...   ...      ...     ...   \n",
              "15685           3  5084      227       1   \n",
              "15686           3  5084      227       1   \n",
              "15687           3  5084      227       1   \n",
              "15688           3  5084      227       1   \n",
              "15689           3  5084      227       1   \n",
              "\n",
              "                                         path  \n",
              "0      /content/drive/MyDrive/unetat/5574.jpg  \n",
              "1      /content/drive/MyDrive/unetat/5574.jpg  \n",
              "2      /content/drive/MyDrive/unetat/5574.jpg  \n",
              "3      /content/drive/MyDrive/unetat/5574.jpg  \n",
              "4      /content/drive/MyDrive/unetat/5574.jpg  \n",
              "...                                       ...  \n",
              "15685  /content/drive/MyDrive/unetat/5084.jpg  \n",
              "15686  /content/drive/MyDrive/unetat/5084.jpg  \n",
              "15687  /content/drive/MyDrive/unetat/5084.jpg  \n",
              "15688  /content/drive/MyDrive/unetat/5084.jpg  \n",
              "15689  /content/drive/MyDrive/unetat/5084.jpg  \n",
              "\n",
              "[7896 rows x 5 columns]"
            ],
            "text/html": [
              "\n",
              "  <div id=\"df-d8968935-bb7c-4241-b9fe-be08a8a6de39\">\n",
              "    <div class=\"colab-df-container\">\n",
              "      <div>\n",
              "<style scoped>\n",
              "    .dataframe tbody tr th:only-of-type {\n",
              "        vertical-align: middle;\n",
              "    }\n",
              "\n",
              "    .dataframe tbody tr th {\n",
              "        vertical-align: top;\n",
              "    }\n",
              "\n",
              "    .dataframe thead th {\n",
              "        text-align: right;\n",
              "    }\n",
              "</style>\n",
              "<table border=\"1\" class=\"dataframe\">\n",
              "  <thead>\n",
              "    <tr style=\"text-align: right;\">\n",
              "      <th></th>\n",
              "      <th>Unnamed: 0</th>\n",
              "      <th>id</th>\n",
              "      <th>boneage</th>\n",
              "      <th>gender</th>\n",
              "      <th>path</th>\n",
              "    </tr>\n",
              "  </thead>\n",
              "  <tbody>\n",
              "    <tr>\n",
              "      <th>0</th>\n",
              "      <td>504</td>\n",
              "      <td>5574</td>\n",
              "      <td>0</td>\n",
              "      <td>1</td>\n",
              "      <td>/content/drive/MyDrive/unetat/5574.jpg</td>\n",
              "    </tr>\n",
              "    <tr>\n",
              "      <th>1</th>\n",
              "      <td>504</td>\n",
              "      <td>5574</td>\n",
              "      <td>0</td>\n",
              "      <td>1</td>\n",
              "      <td>/content/drive/MyDrive/unetat/5574.jpg</td>\n",
              "    </tr>\n",
              "    <tr>\n",
              "      <th>2</th>\n",
              "      <td>504</td>\n",
              "      <td>5574</td>\n",
              "      <td>0</td>\n",
              "      <td>1</td>\n",
              "      <td>/content/drive/MyDrive/unetat/5574.jpg</td>\n",
              "    </tr>\n",
              "    <tr>\n",
              "      <th>3</th>\n",
              "      <td>504</td>\n",
              "      <td>5574</td>\n",
              "      <td>0</td>\n",
              "      <td>1</td>\n",
              "      <td>/content/drive/MyDrive/unetat/5574.jpg</td>\n",
              "    </tr>\n",
              "    <tr>\n",
              "      <th>4</th>\n",
              "      <td>504</td>\n",
              "      <td>5574</td>\n",
              "      <td>0</td>\n",
              "      <td>1</td>\n",
              "      <td>/content/drive/MyDrive/unetat/5574.jpg</td>\n",
              "    </tr>\n",
              "    <tr>\n",
              "      <th>...</th>\n",
              "      <td>...</td>\n",
              "      <td>...</td>\n",
              "      <td>...</td>\n",
              "      <td>...</td>\n",
              "      <td>...</td>\n",
              "    </tr>\n",
              "    <tr>\n",
              "      <th>15685</th>\n",
              "      <td>3</td>\n",
              "      <td>5084</td>\n",
              "      <td>227</td>\n",
              "      <td>1</td>\n",
              "      <td>/content/drive/MyDrive/unetat/5084.jpg</td>\n",
              "    </tr>\n",
              "    <tr>\n",
              "      <th>15686</th>\n",
              "      <td>3</td>\n",
              "      <td>5084</td>\n",
              "      <td>227</td>\n",
              "      <td>1</td>\n",
              "      <td>/content/drive/MyDrive/unetat/5084.jpg</td>\n",
              "    </tr>\n",
              "    <tr>\n",
              "      <th>15687</th>\n",
              "      <td>3</td>\n",
              "      <td>5084</td>\n",
              "      <td>227</td>\n",
              "      <td>1</td>\n",
              "      <td>/content/drive/MyDrive/unetat/5084.jpg</td>\n",
              "    </tr>\n",
              "    <tr>\n",
              "      <th>15688</th>\n",
              "      <td>3</td>\n",
              "      <td>5084</td>\n",
              "      <td>227</td>\n",
              "      <td>1</td>\n",
              "      <td>/content/drive/MyDrive/unetat/5084.jpg</td>\n",
              "    </tr>\n",
              "    <tr>\n",
              "      <th>15689</th>\n",
              "      <td>3</td>\n",
              "      <td>5084</td>\n",
              "      <td>227</td>\n",
              "      <td>1</td>\n",
              "      <td>/content/drive/MyDrive/unetat/5084.jpg</td>\n",
              "    </tr>\n",
              "  </tbody>\n",
              "</table>\n",
              "<p>7896 rows × 5 columns</p>\n",
              "</div>\n",
              "      <button class=\"colab-df-convert\" onclick=\"convertToInteractive('df-d8968935-bb7c-4241-b9fe-be08a8a6de39')\"\n",
              "              title=\"Convert this dataframe to an interactive table.\"\n",
              "              style=\"display:none;\">\n",
              "        \n",
              "  <svg xmlns=\"http://www.w3.org/2000/svg\" height=\"24px\"viewBox=\"0 0 24 24\"\n",
              "       width=\"24px\">\n",
              "    <path d=\"M0 0h24v24H0V0z\" fill=\"none\"/>\n",
              "    <path d=\"M18.56 5.44l.94 2.06.94-2.06 2.06-.94-2.06-.94-.94-2.06-.94 2.06-2.06.94zm-11 1L8.5 8.5l.94-2.06 2.06-.94-2.06-.94L8.5 2.5l-.94 2.06-2.06.94zm10 10l.94 2.06.94-2.06 2.06-.94-2.06-.94-.94-2.06-.94 2.06-2.06.94z\"/><path d=\"M17.41 7.96l-1.37-1.37c-.4-.4-.92-.59-1.43-.59-.52 0-1.04.2-1.43.59L10.3 9.45l-7.72 7.72c-.78.78-.78 2.05 0 2.83L4 21.41c.39.39.9.59 1.41.59.51 0 1.02-.2 1.41-.59l7.78-7.78 2.81-2.81c.8-.78.8-2.07 0-2.86zM5.41 20L4 18.59l7.72-7.72 1.47 1.35L5.41 20z\"/>\n",
              "  </svg>\n",
              "      </button>\n",
              "      \n",
              "  <style>\n",
              "    .colab-df-container {\n",
              "      display:flex;\n",
              "      flex-wrap:wrap;\n",
              "      gap: 12px;\n",
              "    }\n",
              "\n",
              "    .colab-df-convert {\n",
              "      background-color: #E8F0FE;\n",
              "      border: none;\n",
              "      border-radius: 50%;\n",
              "      cursor: pointer;\n",
              "      display: none;\n",
              "      fill: #1967D2;\n",
              "      height: 32px;\n",
              "      padding: 0 0 0 0;\n",
              "      width: 32px;\n",
              "    }\n",
              "\n",
              "    .colab-df-convert:hover {\n",
              "      background-color: #E2EBFA;\n",
              "      box-shadow: 0px 1px 2px rgba(60, 64, 67, 0.3), 0px 1px 3px 1px rgba(60, 64, 67, 0.15);\n",
              "      fill: #174EA6;\n",
              "    }\n",
              "\n",
              "    [theme=dark] .colab-df-convert {\n",
              "      background-color: #3B4455;\n",
              "      fill: #D2E3FC;\n",
              "    }\n",
              "\n",
              "    [theme=dark] .colab-df-convert:hover {\n",
              "      background-color: #434B5C;\n",
              "      box-shadow: 0px 1px 3px 1px rgba(0, 0, 0, 0.15);\n",
              "      filter: drop-shadow(0px 1px 2px rgba(0, 0, 0, 0.3));\n",
              "      fill: #FFFFFF;\n",
              "    }\n",
              "  </style>\n",
              "\n",
              "      <script>\n",
              "        const buttonEl =\n",
              "          document.querySelector('#df-d8968935-bb7c-4241-b9fe-be08a8a6de39 button.colab-df-convert');\n",
              "        buttonEl.style.display =\n",
              "          google.colab.kernel.accessAllowed ? 'block' : 'none';\n",
              "\n",
              "        async function convertToInteractive(key) {\n",
              "          const element = document.querySelector('#df-d8968935-bb7c-4241-b9fe-be08a8a6de39');\n",
              "          const dataTable =\n",
              "            await google.colab.kernel.invokeFunction('convertToInteractive',\n",
              "                                                     [key], {});\n",
              "          if (!dataTable) return;\n",
              "\n",
              "          const docLinkHtml = 'Like what you see? Visit the ' +\n",
              "            '<a target=\"_blank\" href=https://colab.research.google.com/notebooks/data_table.ipynb>data table notebook</a>'\n",
              "            + ' to learn more about interactive tables.';\n",
              "          element.innerHTML = '';\n",
              "          dataTable['output_type'] = 'display_data';\n",
              "          await google.colab.output.renderOutput(dataTable, element);\n",
              "          const docLink = document.createElement('div');\n",
              "          docLink.innerHTML = docLinkHtml;\n",
              "          element.appendChild(docLink);\n",
              "        }\n",
              "      </script>\n",
              "    </div>\n",
              "  </div>\n",
              "  "
            ]
          },
          "metadata": {},
          "execution_count": 13
        }
      ],
      "source": [
        "age1"
      ]
    },
    {
      "cell_type": "code",
      "execution_count": 14,
      "metadata": {
        "colab": {
          "base_uri": "https://localhost:8080/"
        },
        "id": "FvBGIqYyfH3n",
        "outputId": "e06feac1-2331-4443-fcf8-0c0c763d7407"
      },
      "outputs": [
        {
          "output_type": "execute_result",
          "data": {
            "text/plain": [
              "(214,)"
            ]
          },
          "metadata": {},
          "execution_count": 14
        }
      ],
      "source": [
        "ag=age1.boneage.unique()\n",
        "ag.shape"
      ]
    },
    {
      "cell_type": "code",
      "execution_count": 15,
      "metadata": {
        "id": "feLuby6Xf_9v"
      },
      "outputs": [],
      "source": [
        "train1_df = age1.groupby(['boneage']).apply(lambda x: x.sample(15, replace = True)\n",
        "                                                      ).reset_index(drop = True)"
      ]
    },
    {
      "cell_type": "code",
      "execution_count": 16,
      "metadata": {
        "colab": {
          "base_uri": "https://localhost:8080/",
          "height": 423
        },
        "id": "-fO7_F0kgVy6",
        "outputId": "e013ee82-21ce-466c-a088-c9ebd9433677"
      },
      "outputs": [
        {
          "output_type": "execute_result",
          "data": {
            "text/plain": [
              "      Unnamed: 0    id  boneage  gender  \\\n",
              "0            347  5604        0       1   \n",
              "1            504  5574        0       1   \n",
              "2            347  5604        0       1   \n",
              "3            504  5574        0       1   \n",
              "4            347  5604        0       1   \n",
              "...          ...   ...      ...     ...   \n",
              "3205           3  5084      227       1   \n",
              "3206           3  5084      227       1   \n",
              "3207           3  5084      227       1   \n",
              "3208           3  5084      227       1   \n",
              "3209           3  5084      227       1   \n",
              "\n",
              "                                        path  \n",
              "0     /content/drive/MyDrive/unetat/5604.jpg  \n",
              "1     /content/drive/MyDrive/unetat/5574.jpg  \n",
              "2     /content/drive/MyDrive/unetat/5604.jpg  \n",
              "3     /content/drive/MyDrive/unetat/5574.jpg  \n",
              "4     /content/drive/MyDrive/unetat/5604.jpg  \n",
              "...                                      ...  \n",
              "3205  /content/drive/MyDrive/unetat/5084.jpg  \n",
              "3206  /content/drive/MyDrive/unetat/5084.jpg  \n",
              "3207  /content/drive/MyDrive/unetat/5084.jpg  \n",
              "3208  /content/drive/MyDrive/unetat/5084.jpg  \n",
              "3209  /content/drive/MyDrive/unetat/5084.jpg  \n",
              "\n",
              "[3210 rows x 5 columns]"
            ],
            "text/html": [
              "\n",
              "  <div id=\"df-7db62df2-6b7a-42ae-97b0-a5952ed2c123\">\n",
              "    <div class=\"colab-df-container\">\n",
              "      <div>\n",
              "<style scoped>\n",
              "    .dataframe tbody tr th:only-of-type {\n",
              "        vertical-align: middle;\n",
              "    }\n",
              "\n",
              "    .dataframe tbody tr th {\n",
              "        vertical-align: top;\n",
              "    }\n",
              "\n",
              "    .dataframe thead th {\n",
              "        text-align: right;\n",
              "    }\n",
              "</style>\n",
              "<table border=\"1\" class=\"dataframe\">\n",
              "  <thead>\n",
              "    <tr style=\"text-align: right;\">\n",
              "      <th></th>\n",
              "      <th>Unnamed: 0</th>\n",
              "      <th>id</th>\n",
              "      <th>boneage</th>\n",
              "      <th>gender</th>\n",
              "      <th>path</th>\n",
              "    </tr>\n",
              "  </thead>\n",
              "  <tbody>\n",
              "    <tr>\n",
              "      <th>0</th>\n",
              "      <td>347</td>\n",
              "      <td>5604</td>\n",
              "      <td>0</td>\n",
              "      <td>1</td>\n",
              "      <td>/content/drive/MyDrive/unetat/5604.jpg</td>\n",
              "    </tr>\n",
              "    <tr>\n",
              "      <th>1</th>\n",
              "      <td>504</td>\n",
              "      <td>5574</td>\n",
              "      <td>0</td>\n",
              "      <td>1</td>\n",
              "      <td>/content/drive/MyDrive/unetat/5574.jpg</td>\n",
              "    </tr>\n",
              "    <tr>\n",
              "      <th>2</th>\n",
              "      <td>347</td>\n",
              "      <td>5604</td>\n",
              "      <td>0</td>\n",
              "      <td>1</td>\n",
              "      <td>/content/drive/MyDrive/unetat/5604.jpg</td>\n",
              "    </tr>\n",
              "    <tr>\n",
              "      <th>3</th>\n",
              "      <td>504</td>\n",
              "      <td>5574</td>\n",
              "      <td>0</td>\n",
              "      <td>1</td>\n",
              "      <td>/content/drive/MyDrive/unetat/5574.jpg</td>\n",
              "    </tr>\n",
              "    <tr>\n",
              "      <th>4</th>\n",
              "      <td>347</td>\n",
              "      <td>5604</td>\n",
              "      <td>0</td>\n",
              "      <td>1</td>\n",
              "      <td>/content/drive/MyDrive/unetat/5604.jpg</td>\n",
              "    </tr>\n",
              "    <tr>\n",
              "      <th>...</th>\n",
              "      <td>...</td>\n",
              "      <td>...</td>\n",
              "      <td>...</td>\n",
              "      <td>...</td>\n",
              "      <td>...</td>\n",
              "    </tr>\n",
              "    <tr>\n",
              "      <th>3205</th>\n",
              "      <td>3</td>\n",
              "      <td>5084</td>\n",
              "      <td>227</td>\n",
              "      <td>1</td>\n",
              "      <td>/content/drive/MyDrive/unetat/5084.jpg</td>\n",
              "    </tr>\n",
              "    <tr>\n",
              "      <th>3206</th>\n",
              "      <td>3</td>\n",
              "      <td>5084</td>\n",
              "      <td>227</td>\n",
              "      <td>1</td>\n",
              "      <td>/content/drive/MyDrive/unetat/5084.jpg</td>\n",
              "    </tr>\n",
              "    <tr>\n",
              "      <th>3207</th>\n",
              "      <td>3</td>\n",
              "      <td>5084</td>\n",
              "      <td>227</td>\n",
              "      <td>1</td>\n",
              "      <td>/content/drive/MyDrive/unetat/5084.jpg</td>\n",
              "    </tr>\n",
              "    <tr>\n",
              "      <th>3208</th>\n",
              "      <td>3</td>\n",
              "      <td>5084</td>\n",
              "      <td>227</td>\n",
              "      <td>1</td>\n",
              "      <td>/content/drive/MyDrive/unetat/5084.jpg</td>\n",
              "    </tr>\n",
              "    <tr>\n",
              "      <th>3209</th>\n",
              "      <td>3</td>\n",
              "      <td>5084</td>\n",
              "      <td>227</td>\n",
              "      <td>1</td>\n",
              "      <td>/content/drive/MyDrive/unetat/5084.jpg</td>\n",
              "    </tr>\n",
              "  </tbody>\n",
              "</table>\n",
              "<p>3210 rows × 5 columns</p>\n",
              "</div>\n",
              "      <button class=\"colab-df-convert\" onclick=\"convertToInteractive('df-7db62df2-6b7a-42ae-97b0-a5952ed2c123')\"\n",
              "              title=\"Convert this dataframe to an interactive table.\"\n",
              "              style=\"display:none;\">\n",
              "        \n",
              "  <svg xmlns=\"http://www.w3.org/2000/svg\" height=\"24px\"viewBox=\"0 0 24 24\"\n",
              "       width=\"24px\">\n",
              "    <path d=\"M0 0h24v24H0V0z\" fill=\"none\"/>\n",
              "    <path d=\"M18.56 5.44l.94 2.06.94-2.06 2.06-.94-2.06-.94-.94-2.06-.94 2.06-2.06.94zm-11 1L8.5 8.5l.94-2.06 2.06-.94-2.06-.94L8.5 2.5l-.94 2.06-2.06.94zm10 10l.94 2.06.94-2.06 2.06-.94-2.06-.94-.94-2.06-.94 2.06-2.06.94z\"/><path d=\"M17.41 7.96l-1.37-1.37c-.4-.4-.92-.59-1.43-.59-.52 0-1.04.2-1.43.59L10.3 9.45l-7.72 7.72c-.78.78-.78 2.05 0 2.83L4 21.41c.39.39.9.59 1.41.59.51 0 1.02-.2 1.41-.59l7.78-7.78 2.81-2.81c.8-.78.8-2.07 0-2.86zM5.41 20L4 18.59l7.72-7.72 1.47 1.35L5.41 20z\"/>\n",
              "  </svg>\n",
              "      </button>\n",
              "      \n",
              "  <style>\n",
              "    .colab-df-container {\n",
              "      display:flex;\n",
              "      flex-wrap:wrap;\n",
              "      gap: 12px;\n",
              "    }\n",
              "\n",
              "    .colab-df-convert {\n",
              "      background-color: #E8F0FE;\n",
              "      border: none;\n",
              "      border-radius: 50%;\n",
              "      cursor: pointer;\n",
              "      display: none;\n",
              "      fill: #1967D2;\n",
              "      height: 32px;\n",
              "      padding: 0 0 0 0;\n",
              "      width: 32px;\n",
              "    }\n",
              "\n",
              "    .colab-df-convert:hover {\n",
              "      background-color: #E2EBFA;\n",
              "      box-shadow: 0px 1px 2px rgba(60, 64, 67, 0.3), 0px 1px 3px 1px rgba(60, 64, 67, 0.15);\n",
              "      fill: #174EA6;\n",
              "    }\n",
              "\n",
              "    [theme=dark] .colab-df-convert {\n",
              "      background-color: #3B4455;\n",
              "      fill: #D2E3FC;\n",
              "    }\n",
              "\n",
              "    [theme=dark] .colab-df-convert:hover {\n",
              "      background-color: #434B5C;\n",
              "      box-shadow: 0px 1px 3px 1px rgba(0, 0, 0, 0.15);\n",
              "      filter: drop-shadow(0px 1px 2px rgba(0, 0, 0, 0.3));\n",
              "      fill: #FFFFFF;\n",
              "    }\n",
              "  </style>\n",
              "\n",
              "      <script>\n",
              "        const buttonEl =\n",
              "          document.querySelector('#df-7db62df2-6b7a-42ae-97b0-a5952ed2c123 button.colab-df-convert');\n",
              "        buttonEl.style.display =\n",
              "          google.colab.kernel.accessAllowed ? 'block' : 'none';\n",
              "\n",
              "        async function convertToInteractive(key) {\n",
              "          const element = document.querySelector('#df-7db62df2-6b7a-42ae-97b0-a5952ed2c123');\n",
              "          const dataTable =\n",
              "            await google.colab.kernel.invokeFunction('convertToInteractive',\n",
              "                                                     [key], {});\n",
              "          if (!dataTable) return;\n",
              "\n",
              "          const docLinkHtml = 'Like what you see? Visit the ' +\n",
              "            '<a target=\"_blank\" href=https://colab.research.google.com/notebooks/data_table.ipynb>data table notebook</a>'\n",
              "            + ' to learn more about interactive tables.';\n",
              "          element.innerHTML = '';\n",
              "          dataTable['output_type'] = 'display_data';\n",
              "          await google.colab.output.renderOutput(dataTable, element);\n",
              "          const docLink = document.createElement('div');\n",
              "          docLink.innerHTML = docLinkHtml;\n",
              "          element.appendChild(docLink);\n",
              "        }\n",
              "      </script>\n",
              "    </div>\n",
              "  </div>\n",
              "  "
            ]
          },
          "metadata": {},
          "execution_count": 16
        }
      ],
      "source": [
        "train1_df"
      ]
    },
    {
      "cell_type": "code",
      "execution_count": 17,
      "metadata": {
        "colab": {
          "base_uri": "https://localhost:8080/"
        },
        "id": "78T4_RIVgahz",
        "outputId": "fb8f2221-d663-4491-b23b-39857e297363"
      },
      "outputs": [
        {
          "output_type": "stream",
          "name": "stdout",
          "text": [
            "train 1797 validation 642 771\n"
          ]
        }
      ],
      "source": [
        "from sklearn.model_selection import train_test_split\n",
        "train_test1, valid1 = train_test_split(train1_df,\n",
        "                                   test_size = 0.2,\n",
        "                                   random_state = 2018,\n",
        "                                   stratify = train1_df['boneage'])\n",
        "#print('train', raw_train_df.shape[0], 'validation', valid_df.shape[0])\n",
        "train1, test1 = train_test_split(train_test1,\n",
        "                                   test_size = 0.3,\n",
        "                                   random_state = 2018,\n",
        "                                   stratify = train_test1['boneage'])\n",
        "print('train', train1.shape[0], 'validation', valid1.shape[0],test1.shape[0])"
      ]
    },
    {
      "cell_type": "code",
      "execution_count": 18,
      "metadata": {
        "id": "rgXaGEEShK2u"
      },
      "outputs": [],
      "source": [
        "from keras.preprocessing.image import ImageDataGenerator\n",
        "IMG_SIZE = (256,256)\n",
        "core_idg = ImageDataGenerator(rotation_range=20,width_shift_range=0.15,height_shift_range=0.15,zoom_range=0.2,horizontal_flip=True)"
      ]
    },
    {
      "cell_type": "code",
      "execution_count": 19,
      "metadata": {
        "id": "it_INY2thRLt"
      },
      "outputs": [],
      "source": [
        "def flow_from_dataframe(img_data_gen, in_df, path_col, y_col, **dflow_args):\n",
        "    base_dir = os.path.dirname(in_df[path_col].values[0])\n",
        "    print('## Ignore next message from keras, values are replaced anyways')\n",
        "    df_gen = img_data_gen.flow_from_directory(base_dir,\n",
        "                                     class_mode = 'sparse',\n",
        "                                    **dflow_args)\n",
        "    df_gen.filenames = in_df[path_col].values\n",
        "    df_gen.filepaths.extend(df_gen.filenames)\n",
        "    df_gen.classes = np.stack(in_df[y_col].values)\n",
        "    df_gen.samples = in_df.shape[0]\n",
        "    df_gen.n = in_df.shape[0]\n",
        "    df_gen._set_index_array()\n",
        "    df_gen.directory = ''\n",
        "    gen=np.ones(df_gen.samples)\n",
        "    print('Reinserting dataframe: {} images'.format(in_df.shape[0]))\n",
        "    #print(df_gen.samples)\n",
        "    #yield (df_gen,gen)\n",
        "    return df_gen"
      ]
    },
    {
      "cell_type": "code",
      "execution_count": 43,
      "metadata": {
        "colab": {
          "base_uri": "https://localhost:8080/"
        },
        "id": "u7pfG4-FhYU3",
        "outputId": "841f66e9-e38a-4b0e-bc9f-923a9d4c6142"
      },
      "outputs": [
        {
          "output_type": "stream",
          "name": "stdout",
          "text": [
            "## Ignore next message from keras, values are replaced anyways\n",
            "Found 0 images belonging to 0 classes.\n",
            "Reinserting dataframe: 1797 images\n"
          ]
        }
      ],
      "source": [
        "train1_gen = flow_from_dataframe( core_idg, train1,\n",
        "                             path_col = 'path',\n",
        "                            y_col = 'boneage',\n",
        "                            target_size = IMG_SIZE,\n",
        "                             color_mode = 'rgb',\n",
        "                            batch_size = 1789)"
      ]
    },
    {
      "cell_type": "code",
      "execution_count": 44,
      "metadata": {
        "colab": {
          "base_uri": "https://localhost:8080/"
        },
        "id": "IGccOe-qhird",
        "outputId": "8c5e62dd-373f-4e47-bcd2-2ae9edb67945"
      },
      "outputs": [
        {
          "output_type": "stream",
          "name": "stdout",
          "text": [
            "## Ignore next message from keras, values are replaced anyways\n",
            "Found 0 images belonging to 0 classes.\n",
            "Reinserting dataframe: 642 images\n"
          ]
        }
      ],
      "source": [
        "valid1_gen = flow_from_dataframe(core_idg, valid1,\n",
        "                             path_col = 'path',\n",
        "                            y_col = 'boneage',\n",
        "                            target_size = IMG_SIZE,\n",
        "                             color_mode = 'rgb',\n",
        "                            batch_size = 639)"
      ]
    },
    {
      "cell_type": "code",
      "execution_count": 20,
      "metadata": {
        "id": "bqb6-OqtLFHz"
      },
      "outputs": [],
      "source": [
        "\n",
        "testcore_idg = ImageDataGenerator(rotation_range=20,width_shift_range=0.15,height_shift_range=0.15,zoom_range=0.2,horizontal_flip=True)"
      ]
    },
    {
      "cell_type": "code",
      "execution_count": 21,
      "metadata": {
        "colab": {
          "base_uri": "https://localhost:8080/"
        },
        "id": "fnPAVjuXLFHz",
        "outputId": "6fc24892-2c48-401e-cba5-9caf6bbc5ebe"
      },
      "outputs": [
        {
          "output_type": "stream",
          "name": "stdout",
          "text": [
            "## Ignore next message from keras, values are replaced anyways\n",
            "Found 0 images belonging to 0 classes.\n",
            "Reinserting dataframe: 771 images\n"
          ]
        }
      ],
      "source": [
        "test1_gen = flow_from_dataframe(testcore_idg,\n",
        "                              test1,\n",
        "                             path_col = 'path',\n",
        "                            y_col = 'boneage',\n",
        "                            target_size = IMG_SIZE,\n",
        "                             color_mode = 'rgb',\n",
        "                            batch_size = 767)"
      ]
    },
    {
      "cell_type": "code",
      "execution_count": 47,
      "metadata": {
        "id": "TGRGhrMlhSNa"
      },
      "outputs": [],
      "source": [
        "train1_X, train1_Y = next(train1_gen)"
      ]
    },
    {
      "cell_type": "code",
      "execution_count": 48,
      "metadata": {
        "colab": {
          "base_uri": "https://localhost:8080/"
        },
        "id": "ZwAUKKc8kbFw",
        "outputId": "4413b1a4-3645-4618-cd95-3970b6efcf92"
      },
      "outputs": [
        {
          "output_type": "execute_result",
          "data": {
            "text/plain": [
              "(1789, 256, 256, 3)"
            ]
          },
          "metadata": {},
          "execution_count": 48
        }
      ],
      "source": [
        "train1_X.shape"
      ]
    },
    {
      "cell_type": "code",
      "execution_count": 49,
      "metadata": {
        "id": "KxRK-aGYk3Gz"
      },
      "outputs": [],
      "source": [
        "valid1_X, valid1_Y = next(valid1_gen)"
      ]
    },
    {
      "cell_type": "code",
      "execution_count": 50,
      "metadata": {
        "id": "YrzIkZL_k4OT",
        "colab": {
          "base_uri": "https://localhost:8080/"
        },
        "outputId": "99f6fbe4-f3f8-4148-db8d-2de482fe2a54"
      },
      "outputs": [
        {
          "output_type": "execute_result",
          "data": {
            "text/plain": [
              "(639, 256, 256, 3)"
            ]
          },
          "metadata": {},
          "execution_count": 50
        }
      ],
      "source": [
        "\n",
        "valid1_X.shape"
      ]
    },
    {
      "cell_type": "code",
      "execution_count": 22,
      "metadata": {
        "id": "fcr4PLs1lDer"
      },
      "outputs": [],
      "source": [
        "test1_X, test1_Y = next(test1_gen)"
      ]
    },
    {
      "cell_type": "code",
      "execution_count": 27,
      "metadata": {
        "colab": {
          "base_uri": "https://localhost:8080/"
        },
        "id": "REnaZedJlatT",
        "outputId": "3ce770b5-dd7f-4314-8ccd-713111d63db8"
      },
      "outputs": [
        {
          "output_type": "execute_result",
          "data": {
            "text/plain": [
              "(767, 256, 256, 3)"
            ]
          },
          "metadata": {},
          "execution_count": 27
        }
      ],
      "source": [
        "test1_X.shape"
      ]
    },
    {
      "cell_type": "code",
      "execution_count": 23,
      "metadata": {
        "id": "Tfwy02Pbtd7I"
      },
      "outputs": [],
      "source": [
        "\n",
        "import pandas as pd\n",
        "train_dir = '/content/drive/MyDrive/unetat'\n",
        "df = pd.read_csv('/content/sample_data/data.csv')"
      ]
    },
    {
      "cell_type": "code",
      "execution_count": 24,
      "metadata": {
        "id": "AMETrOPftd7J"
      },
      "outputs": [],
      "source": [
        "df.drop(df[(df['id'] == 7144)].index, inplace=True)\n",
        "\n"
      ]
    },
    {
      "cell_type": "code",
      "source": [
        "df = df.groupby(['boneage']).apply(lambda x: x.sample(15, replace = True)\n",
        "                                                      ).reset_index(drop = True)"
      ],
      "metadata": {
        "id": "LqSgUp71t0jp"
      },
      "execution_count": 25,
      "outputs": []
    },
    {
      "cell_type": "code",
      "source": [
        "\n",
        "df['boneage'] = df['boneage'].astype('int')"
      ],
      "metadata": {
        "id": "82aIhUKcUUo7"
      },
      "execution_count": 26,
      "outputs": []
    },
    {
      "cell_type": "code",
      "source": [
        "ag=df.boneage.unique()\n",
        "ag.shape"
      ],
      "metadata": {
        "colab": {
          "base_uri": "https://localhost:8080/"
        },
        "id": "jeuT9NotUdT2",
        "outputId": "48ef24db-9d79-4a38-fc8b-1f0125dd26a2"
      },
      "execution_count": 27,
      "outputs": [
        {
          "output_type": "execute_result",
          "data": {
            "text/plain": [
              "(225,)"
            ]
          },
          "metadata": {},
          "execution_count": 27
        }
      ]
    },
    {
      "cell_type": "code",
      "execution_count": 28,
      "metadata": {
        "id": "E4P3MPGre3bZ"
      },
      "outputs": [],
      "source": [
        "import os\n",
        "age_df = df\n",
        "age_df['path'] = age_df['id'].map(lambda x: os.path.join(train_dir,\n",
        "                                                         '{}.jpg'.format(x)))\n",
        "#age_df['exists'] = age_df['path'].map(os.path.exists)"
      ]
    },
    {
      "cell_type": "code",
      "execution_count": 29,
      "metadata": {
        "id": "UFVD6jGXe3ba"
      },
      "outputs": [],
      "source": [
        "age0=age_df"
      ]
    },
    {
      "cell_type": "code",
      "execution_count": 30,
      "metadata": {
        "id": "gcjqP4Wie3ba"
      },
      "outputs": [],
      "source": [
        "age0.drop(df[(age0['gender'] == 1)].index, inplace=True)"
      ]
    },
    {
      "cell_type": "code",
      "execution_count": 31,
      "metadata": {
        "colab": {
          "base_uri": "https://localhost:8080/",
          "height": 423
        },
        "id": "P9y3PUjre3ba",
        "outputId": "e3b03619-2710-4b82-88ae-9e8b5b2f5a4b"
      },
      "outputs": [
        {
          "output_type": "execute_result",
          "data": {
            "text/plain": [
              "       Unnamed: 0    id  boneage  gender  \\\n",
              "30           1036  4706        2       0   \n",
              "31           1036  4706        2       0   \n",
              "32           1036  4706        2       0   \n",
              "33           1036  4706        2       0   \n",
              "34           1036  4706        2       0   \n",
              "...           ...   ...      ...     ...   \n",
              "15715        1225  5198      228       0   \n",
              "15716        1225  5198      228       0   \n",
              "15717        1225  5198      228       0   \n",
              "15718        1225  5198      228       0   \n",
              "15719        1225  5198      228       0   \n",
              "\n",
              "                                         path  \n",
              "30     /content/drive/MyDrive/unetat/4706.jpg  \n",
              "31     /content/drive/MyDrive/unetat/4706.jpg  \n",
              "32     /content/drive/MyDrive/unetat/4706.jpg  \n",
              "33     /content/drive/MyDrive/unetat/4706.jpg  \n",
              "34     /content/drive/MyDrive/unetat/4706.jpg  \n",
              "...                                       ...  \n",
              "15715  /content/drive/MyDrive/unetat/5198.jpg  \n",
              "15716  /content/drive/MyDrive/unetat/5198.jpg  \n",
              "15717  /content/drive/MyDrive/unetat/5198.jpg  \n",
              "15718  /content/drive/MyDrive/unetat/5198.jpg  \n",
              "15719  /content/drive/MyDrive/unetat/5198.jpg  \n",
              "\n",
              "[7838 rows x 5 columns]"
            ],
            "text/html": [
              "\n",
              "  <div id=\"df-bb9da73f-3744-402f-991f-21ba2dae78a2\">\n",
              "    <div class=\"colab-df-container\">\n",
              "      <div>\n",
              "<style scoped>\n",
              "    .dataframe tbody tr th:only-of-type {\n",
              "        vertical-align: middle;\n",
              "    }\n",
              "\n",
              "    .dataframe tbody tr th {\n",
              "        vertical-align: top;\n",
              "    }\n",
              "\n",
              "    .dataframe thead th {\n",
              "        text-align: right;\n",
              "    }\n",
              "</style>\n",
              "<table border=\"1\" class=\"dataframe\">\n",
              "  <thead>\n",
              "    <tr style=\"text-align: right;\">\n",
              "      <th></th>\n",
              "      <th>Unnamed: 0</th>\n",
              "      <th>id</th>\n",
              "      <th>boneage</th>\n",
              "      <th>gender</th>\n",
              "      <th>path</th>\n",
              "    </tr>\n",
              "  </thead>\n",
              "  <tbody>\n",
              "    <tr>\n",
              "      <th>30</th>\n",
              "      <td>1036</td>\n",
              "      <td>4706</td>\n",
              "      <td>2</td>\n",
              "      <td>0</td>\n",
              "      <td>/content/drive/MyDrive/unetat/4706.jpg</td>\n",
              "    </tr>\n",
              "    <tr>\n",
              "      <th>31</th>\n",
              "      <td>1036</td>\n",
              "      <td>4706</td>\n",
              "      <td>2</td>\n",
              "      <td>0</td>\n",
              "      <td>/content/drive/MyDrive/unetat/4706.jpg</td>\n",
              "    </tr>\n",
              "    <tr>\n",
              "      <th>32</th>\n",
              "      <td>1036</td>\n",
              "      <td>4706</td>\n",
              "      <td>2</td>\n",
              "      <td>0</td>\n",
              "      <td>/content/drive/MyDrive/unetat/4706.jpg</td>\n",
              "    </tr>\n",
              "    <tr>\n",
              "      <th>33</th>\n",
              "      <td>1036</td>\n",
              "      <td>4706</td>\n",
              "      <td>2</td>\n",
              "      <td>0</td>\n",
              "      <td>/content/drive/MyDrive/unetat/4706.jpg</td>\n",
              "    </tr>\n",
              "    <tr>\n",
              "      <th>34</th>\n",
              "      <td>1036</td>\n",
              "      <td>4706</td>\n",
              "      <td>2</td>\n",
              "      <td>0</td>\n",
              "      <td>/content/drive/MyDrive/unetat/4706.jpg</td>\n",
              "    </tr>\n",
              "    <tr>\n",
              "      <th>...</th>\n",
              "      <td>...</td>\n",
              "      <td>...</td>\n",
              "      <td>...</td>\n",
              "      <td>...</td>\n",
              "      <td>...</td>\n",
              "    </tr>\n",
              "    <tr>\n",
              "      <th>15715</th>\n",
              "      <td>1225</td>\n",
              "      <td>5198</td>\n",
              "      <td>228</td>\n",
              "      <td>0</td>\n",
              "      <td>/content/drive/MyDrive/unetat/5198.jpg</td>\n",
              "    </tr>\n",
              "    <tr>\n",
              "      <th>15716</th>\n",
              "      <td>1225</td>\n",
              "      <td>5198</td>\n",
              "      <td>228</td>\n",
              "      <td>0</td>\n",
              "      <td>/content/drive/MyDrive/unetat/5198.jpg</td>\n",
              "    </tr>\n",
              "    <tr>\n",
              "      <th>15717</th>\n",
              "      <td>1225</td>\n",
              "      <td>5198</td>\n",
              "      <td>228</td>\n",
              "      <td>0</td>\n",
              "      <td>/content/drive/MyDrive/unetat/5198.jpg</td>\n",
              "    </tr>\n",
              "    <tr>\n",
              "      <th>15718</th>\n",
              "      <td>1225</td>\n",
              "      <td>5198</td>\n",
              "      <td>228</td>\n",
              "      <td>0</td>\n",
              "      <td>/content/drive/MyDrive/unetat/5198.jpg</td>\n",
              "    </tr>\n",
              "    <tr>\n",
              "      <th>15719</th>\n",
              "      <td>1225</td>\n",
              "      <td>5198</td>\n",
              "      <td>228</td>\n",
              "      <td>0</td>\n",
              "      <td>/content/drive/MyDrive/unetat/5198.jpg</td>\n",
              "    </tr>\n",
              "  </tbody>\n",
              "</table>\n",
              "<p>7838 rows × 5 columns</p>\n",
              "</div>\n",
              "      <button class=\"colab-df-convert\" onclick=\"convertToInteractive('df-bb9da73f-3744-402f-991f-21ba2dae78a2')\"\n",
              "              title=\"Convert this dataframe to an interactive table.\"\n",
              "              style=\"display:none;\">\n",
              "        \n",
              "  <svg xmlns=\"http://www.w3.org/2000/svg\" height=\"24px\"viewBox=\"0 0 24 24\"\n",
              "       width=\"24px\">\n",
              "    <path d=\"M0 0h24v24H0V0z\" fill=\"none\"/>\n",
              "    <path d=\"M18.56 5.44l.94 2.06.94-2.06 2.06-.94-2.06-.94-.94-2.06-.94 2.06-2.06.94zm-11 1L8.5 8.5l.94-2.06 2.06-.94-2.06-.94L8.5 2.5l-.94 2.06-2.06.94zm10 10l.94 2.06.94-2.06 2.06-.94-2.06-.94-.94-2.06-.94 2.06-2.06.94z\"/><path d=\"M17.41 7.96l-1.37-1.37c-.4-.4-.92-.59-1.43-.59-.52 0-1.04.2-1.43.59L10.3 9.45l-7.72 7.72c-.78.78-.78 2.05 0 2.83L4 21.41c.39.39.9.59 1.41.59.51 0 1.02-.2 1.41-.59l7.78-7.78 2.81-2.81c.8-.78.8-2.07 0-2.86zM5.41 20L4 18.59l7.72-7.72 1.47 1.35L5.41 20z\"/>\n",
              "  </svg>\n",
              "      </button>\n",
              "      \n",
              "  <style>\n",
              "    .colab-df-container {\n",
              "      display:flex;\n",
              "      flex-wrap:wrap;\n",
              "      gap: 12px;\n",
              "    }\n",
              "\n",
              "    .colab-df-convert {\n",
              "      background-color: #E8F0FE;\n",
              "      border: none;\n",
              "      border-radius: 50%;\n",
              "      cursor: pointer;\n",
              "      display: none;\n",
              "      fill: #1967D2;\n",
              "      height: 32px;\n",
              "      padding: 0 0 0 0;\n",
              "      width: 32px;\n",
              "    }\n",
              "\n",
              "    .colab-df-convert:hover {\n",
              "      background-color: #E2EBFA;\n",
              "      box-shadow: 0px 1px 2px rgba(60, 64, 67, 0.3), 0px 1px 3px 1px rgba(60, 64, 67, 0.15);\n",
              "      fill: #174EA6;\n",
              "    }\n",
              "\n",
              "    [theme=dark] .colab-df-convert {\n",
              "      background-color: #3B4455;\n",
              "      fill: #D2E3FC;\n",
              "    }\n",
              "\n",
              "    [theme=dark] .colab-df-convert:hover {\n",
              "      background-color: #434B5C;\n",
              "      box-shadow: 0px 1px 3px 1px rgba(0, 0, 0, 0.15);\n",
              "      filter: drop-shadow(0px 1px 2px rgba(0, 0, 0, 0.3));\n",
              "      fill: #FFFFFF;\n",
              "    }\n",
              "  </style>\n",
              "\n",
              "      <script>\n",
              "        const buttonEl =\n",
              "          document.querySelector('#df-bb9da73f-3744-402f-991f-21ba2dae78a2 button.colab-df-convert');\n",
              "        buttonEl.style.display =\n",
              "          google.colab.kernel.accessAllowed ? 'block' : 'none';\n",
              "\n",
              "        async function convertToInteractive(key) {\n",
              "          const element = document.querySelector('#df-bb9da73f-3744-402f-991f-21ba2dae78a2');\n",
              "          const dataTable =\n",
              "            await google.colab.kernel.invokeFunction('convertToInteractive',\n",
              "                                                     [key], {});\n",
              "          if (!dataTable) return;\n",
              "\n",
              "          const docLinkHtml = 'Like what you see? Visit the ' +\n",
              "            '<a target=\"_blank\" href=https://colab.research.google.com/notebooks/data_table.ipynb>data table notebook</a>'\n",
              "            + ' to learn more about interactive tables.';\n",
              "          element.innerHTML = '';\n",
              "          dataTable['output_type'] = 'display_data';\n",
              "          await google.colab.output.renderOutput(dataTable, element);\n",
              "          const docLink = document.createElement('div');\n",
              "          docLink.innerHTML = docLinkHtml;\n",
              "          element.appendChild(docLink);\n",
              "        }\n",
              "      </script>\n",
              "    </div>\n",
              "  </div>\n",
              "  "
            ]
          },
          "metadata": {},
          "execution_count": 31
        }
      ],
      "source": [
        "age0"
      ]
    },
    {
      "cell_type": "code",
      "execution_count": 32,
      "metadata": {
        "colab": {
          "base_uri": "https://localhost:8080/"
        },
        "id": "rx5RQAtvlton",
        "outputId": "0cda949b-a43c-4387-958c-e59e1f54ee6f"
      },
      "outputs": [
        {
          "output_type": "execute_result",
          "data": {
            "text/plain": [
              "(211,)"
            ]
          },
          "metadata": {},
          "execution_count": 32
        }
      ],
      "source": [
        "ag=age0.boneage.unique()\n",
        "ag.shape"
      ]
    },
    {
      "cell_type": "code",
      "execution_count": 33,
      "metadata": {
        "id": "BzMi92Ijlto8"
      },
      "outputs": [],
      "source": [
        "train0_df = age0.groupby(['boneage']).apply(lambda x: x.sample(15, replace = True)\n",
        "                                                      ).reset_index(drop = True)"
      ]
    },
    {
      "cell_type": "code",
      "execution_count": 34,
      "metadata": {
        "colab": {
          "base_uri": "https://localhost:8080/",
          "height": 423
        },
        "id": "Jlbyxk3Zlto9",
        "outputId": "5acfdbed-9d0b-4018-ba71-1c16b5418b16"
      },
      "outputs": [
        {
          "output_type": "execute_result",
          "data": {
            "text/plain": [
              "      Unnamed: 0    id  boneage  gender  \\\n",
              "0           1036  4706        2       0   \n",
              "1           1036  4706        2       0   \n",
              "2           1036  4706        2       0   \n",
              "3           1036  4706        2       0   \n",
              "4           1036  4706        2       0   \n",
              "...          ...   ...      ...     ...   \n",
              "3160        1225  5198      228       0   \n",
              "3161        1225  5198      228       0   \n",
              "3162        1225  5198      228       0   \n",
              "3163        1225  5198      228       0   \n",
              "3164        1225  5198      228       0   \n",
              "\n",
              "                                        path  \n",
              "0     /content/drive/MyDrive/unetat/4706.jpg  \n",
              "1     /content/drive/MyDrive/unetat/4706.jpg  \n",
              "2     /content/drive/MyDrive/unetat/4706.jpg  \n",
              "3     /content/drive/MyDrive/unetat/4706.jpg  \n",
              "4     /content/drive/MyDrive/unetat/4706.jpg  \n",
              "...                                      ...  \n",
              "3160  /content/drive/MyDrive/unetat/5198.jpg  \n",
              "3161  /content/drive/MyDrive/unetat/5198.jpg  \n",
              "3162  /content/drive/MyDrive/unetat/5198.jpg  \n",
              "3163  /content/drive/MyDrive/unetat/5198.jpg  \n",
              "3164  /content/drive/MyDrive/unetat/5198.jpg  \n",
              "\n",
              "[3165 rows x 5 columns]"
            ],
            "text/html": [
              "\n",
              "  <div id=\"df-a9dbdfa4-ac83-42f0-afeb-872de3d6ce2d\">\n",
              "    <div class=\"colab-df-container\">\n",
              "      <div>\n",
              "<style scoped>\n",
              "    .dataframe tbody tr th:only-of-type {\n",
              "        vertical-align: middle;\n",
              "    }\n",
              "\n",
              "    .dataframe tbody tr th {\n",
              "        vertical-align: top;\n",
              "    }\n",
              "\n",
              "    .dataframe thead th {\n",
              "        text-align: right;\n",
              "    }\n",
              "</style>\n",
              "<table border=\"1\" class=\"dataframe\">\n",
              "  <thead>\n",
              "    <tr style=\"text-align: right;\">\n",
              "      <th></th>\n",
              "      <th>Unnamed: 0</th>\n",
              "      <th>id</th>\n",
              "      <th>boneage</th>\n",
              "      <th>gender</th>\n",
              "      <th>path</th>\n",
              "    </tr>\n",
              "  </thead>\n",
              "  <tbody>\n",
              "    <tr>\n",
              "      <th>0</th>\n",
              "      <td>1036</td>\n",
              "      <td>4706</td>\n",
              "      <td>2</td>\n",
              "      <td>0</td>\n",
              "      <td>/content/drive/MyDrive/unetat/4706.jpg</td>\n",
              "    </tr>\n",
              "    <tr>\n",
              "      <th>1</th>\n",
              "      <td>1036</td>\n",
              "      <td>4706</td>\n",
              "      <td>2</td>\n",
              "      <td>0</td>\n",
              "      <td>/content/drive/MyDrive/unetat/4706.jpg</td>\n",
              "    </tr>\n",
              "    <tr>\n",
              "      <th>2</th>\n",
              "      <td>1036</td>\n",
              "      <td>4706</td>\n",
              "      <td>2</td>\n",
              "      <td>0</td>\n",
              "      <td>/content/drive/MyDrive/unetat/4706.jpg</td>\n",
              "    </tr>\n",
              "    <tr>\n",
              "      <th>3</th>\n",
              "      <td>1036</td>\n",
              "      <td>4706</td>\n",
              "      <td>2</td>\n",
              "      <td>0</td>\n",
              "      <td>/content/drive/MyDrive/unetat/4706.jpg</td>\n",
              "    </tr>\n",
              "    <tr>\n",
              "      <th>4</th>\n",
              "      <td>1036</td>\n",
              "      <td>4706</td>\n",
              "      <td>2</td>\n",
              "      <td>0</td>\n",
              "      <td>/content/drive/MyDrive/unetat/4706.jpg</td>\n",
              "    </tr>\n",
              "    <tr>\n",
              "      <th>...</th>\n",
              "      <td>...</td>\n",
              "      <td>...</td>\n",
              "      <td>...</td>\n",
              "      <td>...</td>\n",
              "      <td>...</td>\n",
              "    </tr>\n",
              "    <tr>\n",
              "      <th>3160</th>\n",
              "      <td>1225</td>\n",
              "      <td>5198</td>\n",
              "      <td>228</td>\n",
              "      <td>0</td>\n",
              "      <td>/content/drive/MyDrive/unetat/5198.jpg</td>\n",
              "    </tr>\n",
              "    <tr>\n",
              "      <th>3161</th>\n",
              "      <td>1225</td>\n",
              "      <td>5198</td>\n",
              "      <td>228</td>\n",
              "      <td>0</td>\n",
              "      <td>/content/drive/MyDrive/unetat/5198.jpg</td>\n",
              "    </tr>\n",
              "    <tr>\n",
              "      <th>3162</th>\n",
              "      <td>1225</td>\n",
              "      <td>5198</td>\n",
              "      <td>228</td>\n",
              "      <td>0</td>\n",
              "      <td>/content/drive/MyDrive/unetat/5198.jpg</td>\n",
              "    </tr>\n",
              "    <tr>\n",
              "      <th>3163</th>\n",
              "      <td>1225</td>\n",
              "      <td>5198</td>\n",
              "      <td>228</td>\n",
              "      <td>0</td>\n",
              "      <td>/content/drive/MyDrive/unetat/5198.jpg</td>\n",
              "    </tr>\n",
              "    <tr>\n",
              "      <th>3164</th>\n",
              "      <td>1225</td>\n",
              "      <td>5198</td>\n",
              "      <td>228</td>\n",
              "      <td>0</td>\n",
              "      <td>/content/drive/MyDrive/unetat/5198.jpg</td>\n",
              "    </tr>\n",
              "  </tbody>\n",
              "</table>\n",
              "<p>3165 rows × 5 columns</p>\n",
              "</div>\n",
              "      <button class=\"colab-df-convert\" onclick=\"convertToInteractive('df-a9dbdfa4-ac83-42f0-afeb-872de3d6ce2d')\"\n",
              "              title=\"Convert this dataframe to an interactive table.\"\n",
              "              style=\"display:none;\">\n",
              "        \n",
              "  <svg xmlns=\"http://www.w3.org/2000/svg\" height=\"24px\"viewBox=\"0 0 24 24\"\n",
              "       width=\"24px\">\n",
              "    <path d=\"M0 0h24v24H0V0z\" fill=\"none\"/>\n",
              "    <path d=\"M18.56 5.44l.94 2.06.94-2.06 2.06-.94-2.06-.94-.94-2.06-.94 2.06-2.06.94zm-11 1L8.5 8.5l.94-2.06 2.06-.94-2.06-.94L8.5 2.5l-.94 2.06-2.06.94zm10 10l.94 2.06.94-2.06 2.06-.94-2.06-.94-.94-2.06-.94 2.06-2.06.94z\"/><path d=\"M17.41 7.96l-1.37-1.37c-.4-.4-.92-.59-1.43-.59-.52 0-1.04.2-1.43.59L10.3 9.45l-7.72 7.72c-.78.78-.78 2.05 0 2.83L4 21.41c.39.39.9.59 1.41.59.51 0 1.02-.2 1.41-.59l7.78-7.78 2.81-2.81c.8-.78.8-2.07 0-2.86zM5.41 20L4 18.59l7.72-7.72 1.47 1.35L5.41 20z\"/>\n",
              "  </svg>\n",
              "      </button>\n",
              "      \n",
              "  <style>\n",
              "    .colab-df-container {\n",
              "      display:flex;\n",
              "      flex-wrap:wrap;\n",
              "      gap: 12px;\n",
              "    }\n",
              "\n",
              "    .colab-df-convert {\n",
              "      background-color: #E8F0FE;\n",
              "      border: none;\n",
              "      border-radius: 50%;\n",
              "      cursor: pointer;\n",
              "      display: none;\n",
              "      fill: #1967D2;\n",
              "      height: 32px;\n",
              "      padding: 0 0 0 0;\n",
              "      width: 32px;\n",
              "    }\n",
              "\n",
              "    .colab-df-convert:hover {\n",
              "      background-color: #E2EBFA;\n",
              "      box-shadow: 0px 1px 2px rgba(60, 64, 67, 0.3), 0px 1px 3px 1px rgba(60, 64, 67, 0.15);\n",
              "      fill: #174EA6;\n",
              "    }\n",
              "\n",
              "    [theme=dark] .colab-df-convert {\n",
              "      background-color: #3B4455;\n",
              "      fill: #D2E3FC;\n",
              "    }\n",
              "\n",
              "    [theme=dark] .colab-df-convert:hover {\n",
              "      background-color: #434B5C;\n",
              "      box-shadow: 0px 1px 3px 1px rgba(0, 0, 0, 0.15);\n",
              "      filter: drop-shadow(0px 1px 2px rgba(0, 0, 0, 0.3));\n",
              "      fill: #FFFFFF;\n",
              "    }\n",
              "  </style>\n",
              "\n",
              "      <script>\n",
              "        const buttonEl =\n",
              "          document.querySelector('#df-a9dbdfa4-ac83-42f0-afeb-872de3d6ce2d button.colab-df-convert');\n",
              "        buttonEl.style.display =\n",
              "          google.colab.kernel.accessAllowed ? 'block' : 'none';\n",
              "\n",
              "        async function convertToInteractive(key) {\n",
              "          const element = document.querySelector('#df-a9dbdfa4-ac83-42f0-afeb-872de3d6ce2d');\n",
              "          const dataTable =\n",
              "            await google.colab.kernel.invokeFunction('convertToInteractive',\n",
              "                                                     [key], {});\n",
              "          if (!dataTable) return;\n",
              "\n",
              "          const docLinkHtml = 'Like what you see? Visit the ' +\n",
              "            '<a target=\"_blank\" href=https://colab.research.google.com/notebooks/data_table.ipynb>data table notebook</a>'\n",
              "            + ' to learn more about interactive tables.';\n",
              "          element.innerHTML = '';\n",
              "          dataTable['output_type'] = 'display_data';\n",
              "          await google.colab.output.renderOutput(dataTable, element);\n",
              "          const docLink = document.createElement('div');\n",
              "          docLink.innerHTML = docLinkHtml;\n",
              "          element.appendChild(docLink);\n",
              "        }\n",
              "      </script>\n",
              "    </div>\n",
              "  </div>\n",
              "  "
            ]
          },
          "metadata": {},
          "execution_count": 34
        }
      ],
      "source": [
        "train0_df"
      ]
    },
    {
      "cell_type": "code",
      "execution_count": 35,
      "metadata": {
        "colab": {
          "base_uri": "https://localhost:8080/"
        },
        "id": "6OLfe12Qlto-",
        "outputId": "4f3b724b-f85d-4450-8a25-fd30c9957a6b"
      },
      "outputs": [
        {
          "output_type": "stream",
          "name": "stdout",
          "text": [
            "train 1772 validation 633 760\n"
          ]
        }
      ],
      "source": [
        "from sklearn.model_selection import train_test_split\n",
        "train_test0, valid0 = train_test_split(train0_df,\n",
        "                                   test_size = 0.2,\n",
        "                                   random_state = 2018,\n",
        "                                   stratify = train0_df['boneage'])\n",
        "#print('train', raw_train_df.shape[0], 'validation', valid_df.shape[0])\n",
        "train0, test0 = train_test_split(train_test0,\n",
        "                                   test_size = 0.3,\n",
        "                                   random_state = 2018,\n",
        "                                   stratify = train_test0['boneage'])\n",
        "print('train', train0.shape[0], 'validation', valid0.shape[0],test0.shape[0])"
      ]
    },
    {
      "cell_type": "code",
      "execution_count": 36,
      "metadata": {
        "id": "y6TSFBaRYaS8"
      },
      "outputs": [],
      "source": [
        "from keras.preprocessing.image import ImageDataGenerator\n",
        "IMG_SIZE = (256,256)\n",
        "core_idg = ImageDataGenerator(rotation_range=20,width_shift_range=0.15,height_shift_range=0.15,zoom_range=0.2,horizontal_flip=True)"
      ]
    },
    {
      "cell_type": "code",
      "execution_count": 37,
      "metadata": {
        "id": "_7iQy9cblto_"
      },
      "outputs": [],
      "source": [
        "def flow_from_dataframe(img_data_gen, in_df, path_col, y_col, **dflow_args):\n",
        "    base_dir = os.path.dirname(in_df[path_col].values[0])\n",
        "    print('## Ignore next message from keras, values are replaced anyways')\n",
        "    df_gen = img_data_gen.flow_from_directory(base_dir,\n",
        "                                     class_mode = 'sparse',\n",
        "                                    **dflow_args)\n",
        "    df_gen.filenames = in_df[path_col].values\n",
        "    df_gen.filepaths.extend(df_gen.filenames)\n",
        "    df_gen.classes = np.stack(in_df[y_col].values)\n",
        "    df_gen.samples = in_df.shape[0]\n",
        "    df_gen.n = in_df.shape[0]\n",
        "    df_gen._set_index_array()\n",
        "    df_gen.directory = ''\n",
        "    gen=np.ones(df_gen.samples)\n",
        "    print('Reinserting dataframe: {} images'.format(in_df.shape[0]))\n",
        "    #print(df_gen.samples)\n",
        "    #yield (df_gen,gen)\n",
        "    return df_gen"
      ]
    },
    {
      "cell_type": "code",
      "execution_count": 43,
      "metadata": {
        "colab": {
          "base_uri": "https://localhost:8080/"
        },
        "id": "neq1ir7ylto_",
        "outputId": "4259108e-b7e1-4490-9ecf-79ca9c63fa92"
      },
      "outputs": [
        {
          "output_type": "stream",
          "name": "stdout",
          "text": [
            "## Ignore next message from keras, values are replaced anyways\n",
            "Found 0 images belonging to 0 classes.\n",
            "Reinserting dataframe: 1772 images\n"
          ]
        }
      ],
      "source": [
        "train0_gen = flow_from_dataframe( core_idg, train0,\n",
        "                             path_col = 'path',\n",
        "                            y_col = 'boneage',\n",
        "                            target_size = IMG_SIZE,\n",
        "                             color_mode = 'rgb',\n",
        "                            batch_size = 1772)"
      ]
    },
    {
      "cell_type": "code",
      "execution_count": 69,
      "metadata": {
        "colab": {
          "base_uri": "https://localhost:8080/"
        },
        "id": "OzomkT1ZltpA",
        "outputId": "6049a374-b401-4322-ad2a-cc3fc7ecd41b"
      },
      "outputs": [
        {
          "output_type": "stream",
          "name": "stdout",
          "text": [
            "## Ignore next message from keras, values are replaced anyways\n",
            "Found 0 images belonging to 0 classes.\n",
            "Reinserting dataframe: 633 images\n"
          ]
        }
      ],
      "source": [
        "valid0_gen = flow_from_dataframe(core_idg, valid0,\n",
        "                             path_col = 'path',\n",
        "                            y_col = 'boneage',\n",
        "                            target_size = IMG_SIZE,\n",
        "                             color_mode = 'rgb',\n",
        "                            batch_size = 633)"
      ]
    },
    {
      "cell_type": "code",
      "execution_count": 44,
      "metadata": {
        "id": "Aw2JaZZwltpA"
      },
      "outputs": [],
      "source": [
        "\n",
        "\n",
        "testcore_idg = ImageDataGenerator(rotation_range=20,width_shift_range=0.15,height_shift_range=0.15,zoom_range=0.2,horizontal_flip=True)"
      ]
    },
    {
      "cell_type": "code",
      "execution_count": 38,
      "metadata": {
        "colab": {
          "base_uri": "https://localhost:8080/"
        },
        "id": "Bu7kCWNYltpB",
        "outputId": "1c829a34-0c68-4935-fdd5-f820405fd17a"
      },
      "outputs": [
        {
          "output_type": "stream",
          "name": "stdout",
          "text": [
            "## Ignore next message from keras, values are replaced anyways\n",
            "Found 0 images belonging to 0 classes.\n",
            "Reinserting dataframe: 760 images\n"
          ]
        }
      ],
      "source": [
        "test0_gen = flow_from_dataframe(testcore_idg,\n",
        "                              test0,\n",
        "                             path_col = 'path',\n",
        "                            y_col = 'boneage',\n",
        "                            target_size = IMG_SIZE,\n",
        "                             color_mode = 'rgb',\n",
        "                            batch_size = 760)"
      ]
    },
    {
      "cell_type": "code",
      "execution_count": 72,
      "metadata": {
        "id": "6XxaEBd5ltpC"
      },
      "outputs": [],
      "source": [
        "train0_X, train0_Y = next(train0_gen)"
      ]
    },
    {
      "cell_type": "code",
      "execution_count": 73,
      "metadata": {
        "id": "RDhVkpIBltpC",
        "colab": {
          "base_uri": "https://localhost:8080/"
        },
        "outputId": "0fc2d41c-17a8-4a6e-f5fb-bc1c0367183d"
      },
      "outputs": [
        {
          "output_type": "execute_result",
          "data": {
            "text/plain": [
              "(1772, 256, 256, 3)"
            ]
          },
          "metadata": {},
          "execution_count": 73
        }
      ],
      "source": [
        "train0_X.shape"
      ]
    },
    {
      "cell_type": "code",
      "execution_count": 74,
      "metadata": {
        "id": "M8wdWoT1zmyt",
        "colab": {
          "base_uri": "https://localhost:8080/"
        },
        "outputId": "b2fbc13d-3206-4dd8-9116-f771b3ad0fa3"
      },
      "outputs": [
        {
          "output_type": "stream",
          "name": "stdout",
          "text": [
            "1770\n"
          ]
        }
      ],
      "source": [
        "train_x=[]\n",
        "train_y=[]\n",
        "train_gen=[]\n",
        "i=0\n",
        "for k in range(354):\n",
        "  for j in range(5):\n",
        "    train_x.append(train1_X[i])\n",
        "    train_y.append(train1_Y[i])\n",
        "    train_gen.append(1)\n",
        "    train_x.append(train0_X[i])\n",
        "    train_y.append(train0_Y[i])\n",
        "    train_gen.append(0)\n",
        "    i=i+1\n",
        "print(i)\n",
        "i=1770\n",
        "for k in range(19):\n",
        "    train_x.append(train1_X[i])\n",
        "    train_y.append(train1_Y[i])\n",
        "    train_gen.append(1)\n",
        "    i=i+1\n",
        "i=1770\n",
        "del train1_Y\n",
        "del train1_X\n",
        "\n",
        "for k in range(2):\n",
        "    train_x.append(train0_X[i])\n",
        "    train_y.append(train0_Y[i])\n",
        "    train_gen.append(0)\n",
        "    i=i+1\n",
        "del train0_Y\n",
        "del train0_X\n"
      ]
    },
    {
      "cell_type": "code",
      "execution_count": 75,
      "metadata": {
        "id": "-sWC9AZj3Vxn"
      },
      "outputs": [],
      "source": [
        "train_x=np.asarray(train_x)\n",
        "train_x=train_x/255\n",
        "train_y=np.asarray(train_y)\n",
        "train_gen=np.asarray(train_gen)"
      ]
    },
    {
      "cell_type": "code",
      "execution_count": 76,
      "metadata": {
        "id": "-xcDDZsvltpD"
      },
      "outputs": [],
      "source": [
        "valid0_X, valid0_Y = next(valid0_gen)"
      ]
    },
    {
      "cell_type": "code",
      "execution_count": 77,
      "metadata": {
        "id": "Oc0hn0VeltpD",
        "colab": {
          "base_uri": "https://localhost:8080/"
        },
        "outputId": "29e8b2f3-fea7-43c2-c959-9b88e7545120"
      },
      "outputs": [
        {
          "output_type": "execute_result",
          "data": {
            "text/plain": [
              "(633, 256, 256, 3)"
            ]
          },
          "metadata": {},
          "execution_count": 77
        }
      ],
      "source": [
        "\n",
        "valid0_X.shape"
      ]
    },
    {
      "cell_type": "code",
      "execution_count": 78,
      "metadata": {
        "id": "tHORQlNA0ZLK",
        "colab": {
          "base_uri": "https://localhost:8080/"
        },
        "outputId": "e86c51dc-53c4-444b-b030-ea174bf60292"
      },
      "outputs": [
        {
          "output_type": "stream",
          "name": "stdout",
          "text": [
            "633\n"
          ]
        }
      ],
      "source": [
        "\n",
        "valid_x=[]\n",
        "valid_y=[]\n",
        "valid_gen=[]\n",
        "i=0\n",
        "for k in range(211):\n",
        "  for j in range(3):\n",
        "    valid_x.append(valid1_X[i])\n",
        "    valid_y.append(valid1_Y[i])\n",
        "    valid_gen.append(1)\n",
        "    valid_x.append(valid0_X[i])\n",
        "    valid_y.append(valid0_Y[i])\n",
        "    valid_gen.append(0)\n",
        "    i=i+1\n",
        "print(i)\n",
        "i=633\n",
        "for k in range(6):\n",
        "    valid_x.append(valid1_X[i])\n",
        "    valid_y.append(valid1_Y[i])\n",
        "    valid_gen.append(1)\n",
        "    i=i+1\n",
        "del valid1_Y\n",
        "del valid1_X\n",
        "del valid0_Y\n",
        "del valid0_X"
      ]
    },
    {
      "cell_type": "code",
      "execution_count": 79,
      "metadata": {
        "id": "a533nesY3Zcg"
      },
      "outputs": [],
      "source": [
        "\n",
        "valid_x=np.asarray(valid_x)\n",
        "valid_x=valid_x/255\n",
        "valid_y=np.asarray(valid_y)\n",
        "valid_gen=np.asarray(valid_gen)"
      ]
    },
    {
      "cell_type": "code",
      "execution_count": 39,
      "metadata": {
        "id": "ChATCHw-ltpE"
      },
      "outputs": [],
      "source": [
        "test0_X, test0_Y = next(test0_gen)"
      ]
    },
    {
      "cell_type": "code",
      "execution_count": 40,
      "metadata": {
        "id": "Jz5uNv-kltpF",
        "colab": {
          "base_uri": "https://localhost:8080/"
        },
        "outputId": "8f65a460-481e-4653-9304-e3d5e91fe6e5"
      },
      "outputs": [
        {
          "output_type": "execute_result",
          "data": {
            "text/plain": [
              "(760, 256, 256, 3)"
            ]
          },
          "metadata": {},
          "execution_count": 40
        }
      ],
      "source": [
        "test0_X.shape"
      ]
    },
    {
      "cell_type": "code",
      "execution_count": 41,
      "metadata": {
        "id": "JxSkd2TqDz8X",
        "colab": {
          "base_uri": "https://localhost:8080/",
          "height": 165
        },
        "outputId": "2c0d28a8-4f72-4392-ff72-60f78a5a8968"
      },
      "outputs": [
        {
          "output_type": "error",
          "ename": "NameError",
          "evalue": "ignored",
          "traceback": [
            "\u001b[0;31m---------------------------------------------------------------------------\u001b[0m",
            "\u001b[0;31mNameError\u001b[0m                                 Traceback (most recent call last)",
            "\u001b[0;32m<ipython-input-41-04aa4f6d450a>\u001b[0m in \u001b[0;36m<cell line: 1>\u001b[0;34m()\u001b[0m\n\u001b[0;32m----> 1\u001b[0;31m \u001b[0mtrain_x\u001b[0m\u001b[0;34m.\u001b[0m\u001b[0mshape\u001b[0m\u001b[0;34m\u001b[0m\u001b[0;34m\u001b[0m\u001b[0m\n\u001b[0m",
            "\u001b[0;31mNameError\u001b[0m: name 'train_x' is not defined"
          ]
        }
      ],
      "source": [
        "train_x.shape"
      ]
    },
    {
      "cell_type": "code",
      "execution_count": 42,
      "metadata": {
        "id": "hHBvaTSg1w2g",
        "colab": {
          "base_uri": "https://localhost:8080/"
        },
        "outputId": "f8b0c156-e421-44b1-a2f2-485e4c2146a5"
      },
      "outputs": [
        {
          "output_type": "stream",
          "name": "stdout",
          "text": [
            "760\n"
          ]
        }
      ],
      "source": [
        "test_x=[]\n",
        "test_y=[]\n",
        "test_gen=[]\n",
        "i=0\n",
        "for k in range(152):\n",
        "  for j in range(5):\n",
        "    test_x.append(test1_X[i])\n",
        "    test_y.append(test1_Y[i])\n",
        "    test_gen.append(1)\n",
        "    test_x.append(test0_X[i])\n",
        "    test_y.append(test0_Y[i])\n",
        "    test_gen.append(0)\n",
        "    i=i+1\n",
        "print(i)\n",
        "i=760\n",
        "for k in range(7):\n",
        "    test_x.append(test1_X[i])\n",
        "    test_y.append(test1_Y[i])\n",
        "    test_gen.append(1)\n",
        "    i=i+1\n",
        "del test1_Y\n",
        "del test1_X\n",
        "\n",
        "del test0_Y\n",
        "del test0_X"
      ]
    },
    {
      "cell_type": "code",
      "source": [
        "test_x=np.asarray(test_x)\n",
        "test_x=test_x/255\n",
        "test_y=np.asarray(test_y)\n",
        "test_gen=np.asarray(test_gen)"
      ],
      "metadata": {
        "id": "KO3r3oueynzg"
      },
      "execution_count": 43,
      "outputs": []
    },
    {
      "cell_type": "code",
      "source": [
        "from tensorflow.keras.applications.resnet50 import ResNet50\n",
        "from keras.applications.vgg19 import VGG19\n",
        "from keras.applications.inception_v3 import InceptionV3\n",
        "from keras.applications.xception import Xception\n",
        "from keras.preprocessing import image\n",
        "from tensorflow.keras import regularizers\n",
        "from keras.models import Model, load_model\n",
        "from keras.layers import Flatten, Dense, Input, Reshape, Lambda,Conv2D,BatchNormalization,Concatenate, Dropout, GlobalAveragePooling2D, Multiply,Add\n",
        "import tensorflow as tf\n",
        "from keras import backend as K\n",
        "import pickle\n",
        "import numpy as np\n",
        "import matplotlib.pyplot as plt\n",
        "import keras\n",
        "#from func_utils import *\n",
        "import os\n",
        "#os.environ[\"CUDA_VISIBLE_DEVICES\"]=\"2\"\n",
        "#os.environ['OMP_NUM_THREADS']='6'\n",
        "batch_size = 4\n",
        "epochs = 30"
      ],
      "metadata": {
        "id": "8iwbPzLKylOU"
      },
      "execution_count": 44,
      "outputs": []
    },
    {
      "cell_type": "code",
      "execution_count": 45,
      "metadata": {
        "id": "KKA9sy_QB9_P"
      },
      "outputs": [],
      "source": [
        "def SmallObjectAttention(input_tensor):\n",
        "    # Calculate channel attention weights\n",
        "    attention = GlobalAveragePooling2D()(input_tensor)\n",
        "    attention = Dense(units=input_tensor.shape[-1] // 4, activation='relu')(attention)\n",
        "    attention = Dense(units=input_tensor.shape[-1], activation='sigmoid')(attention)\n",
        "    attention = Reshape((1, 1, -1))(attention)\n",
        "\n",
        "    # Multiply the attention weights with the input tensor\n",
        "    attention = Multiply()([input_tensor, attention])\n",
        "\n",
        "    # Add the attention weights to the input tensor\n",
        "    output_tensor = Add()([input_tensor, attention])\n",
        "\n",
        "    return output_tensor"
      ]
    },
    {
      "cell_type": "code",
      "execution_count": 46,
      "metadata": {
        "id": "4VbYUG5lCIm0"
      },
      "outputs": [],
      "source": [
        "def LargeObjectAttention(input_tensor, reduction_ratio=16):\n",
        "    channels = input_tensor.shape[-1]\n",
        "\n",
        "    # Squeeze: Global average pooling across spatial dimensions\n",
        "    squeeze = GlobalAveragePooling2D()(input_tensor)\n",
        "\n",
        "    # Excitation: Two fully connected layers with sigmoid activation\n",
        "    excitation = Dense(units=channels // reduction_ratio, activation='relu')(squeeze)\n",
        "    excitation = Dense(units=channels, activation='sigmoid')(excitation)\n",
        "\n",
        "    # Reshape excitation weights to match input tensor shape\n",
        "    excitation = Reshape((1, 1, channels))(excitation)\n",
        "\n",
        "    # Scale the input tensor by the excitation weights\n",
        "    scaled_tensor = Multiply()([input_tensor, excitation])\n",
        "\n",
        "    # Add the scaled tensor to the input tensor\n",
        "    output_tensor = Add()([input_tensor, scaled_tensor])\n",
        "\n",
        "    return output_tensor\n"
      ]
    },
    {
      "cell_type": "code",
      "execution_count": 47,
      "metadata": {
        "id": "Ggy8o1xKY6G_"
      },
      "outputs": [],
      "source": [
        "def channel_attention(input_feature):\n",
        "  kernel_initializer = tf.keras.initializers.variance_scaling()\n",
        "  bias_initializer = tf.constant_initializer(value=0.0)\n",
        "  channel = input_feature.get_shape()[-1]\n",
        "  ratio=16\n",
        "  avg_pool = tf.reduce_mean(input_feature, axis=[1,2], keepdims=True)\n",
        "  assert avg_pool.get_shape()[1:] == (1,1,channel)\n",
        "  avg_pool =Dense(\n",
        "                                 units=channel//ratio,\n",
        "                                 activation=tf.nn.relu,\n",
        "                                 kernel_initializer=kernel_initializer,\n",
        "                                 bias_initializer=bias_initializer) (avg_pool)\n",
        "  assert avg_pool.get_shape()[1:] == (1,1,channel//ratio)\n",
        "  avg_pool = Dense(\n",
        "                                 units=channel,\n",
        "                                 kernel_initializer=kernel_initializer,\n",
        "                                 bias_initializer=bias_initializer)  (avg_pool)\n",
        "  assert avg_pool.get_shape()[1:] == (1,1,channel)\n",
        "\n",
        "  max_pool = tf.reduce_max(input_feature, axis=[1,2], keepdims=True)\n",
        "  assert max_pool.get_shape()[1:] == (1,1,channel)\n",
        "  max_pool = Dense(\n",
        "                                 units=channel//ratio,\n",
        "                                 activation=tf.nn.relu) (max_pool)\n",
        "  assert max_pool.get_shape()[1:] == (1,1,channel//ratio)\n",
        "  max_pool = Dense(\n",
        "                                 units=channel)  (max_pool)\n",
        "  assert max_pool.get_shape()[1:] == (1,1,channel)\n",
        "\n",
        "  scale = tf.keras.activations.sigmoid(avg_pool + max_pool)\n",
        "  return input_feature * scale"
      ]
    },
    {
      "cell_type": "code",
      "execution_count": 48,
      "metadata": {
        "id": "3z1zzcHClwzF"
      },
      "outputs": [],
      "source": [
        "def spatial_attention(input_feature):\n",
        "  kernel_size = 7\n",
        "  kernel_initializer = tf.keras.initializers.variance_scaling()\n",
        "\n",
        "  avg_pool = tf.reduce_mean(input_feature, axis=[3], keepdims=True)\n",
        "  assert avg_pool.get_shape()[-1] == 1\n",
        "  max_pool = tf.reduce_max(input_feature, axis=[3], keepdims=True)\n",
        "  assert max_pool.get_shape()[-1] == 1\n",
        "  concat = tf.concat([avg_pool,max_pool], 3)\n",
        "  assert concat.get_shape()[-1] == 2\n",
        "\n",
        "  concat = Conv2D(\n",
        "                              filters=1,\n",
        "                              kernel_size=[kernel_size,kernel_size],\n",
        "                              strides=[1,1],\n",
        "                              padding=\"same\",\n",
        "                              activation=None,\n",
        "                              kernel_initializer=kernel_initializer,\n",
        "                              use_bias=False)(concat)\n",
        "  assert concat.get_shape()[-1] == 1\n",
        "  concat = tf.keras.activations.sigmoid(concat)\n",
        "\n",
        "  return input_feature * concat"
      ]
    },
    {
      "cell_type": "code",
      "execution_count": 49,
      "metadata": {
        "id": "Y56h7nOevB6I"
      },
      "outputs": [],
      "source": [
        "def modelsb():\n",
        "  base_model = Xception(weights='imagenet', include_top=False)\n",
        "\n",
        "  input = Input(shape=(256,256,3),name='input1')\n",
        "  input_gender = Input(shape=(1,),dtype='float32',name='input2')\n",
        "  output = base_model(input)\n",
        "  gender_embedding=Dense(32)(input_gender)\n",
        "  x = output\n",
        "  #y = output_tensor2\n",
        "  small=SmallObjectAttention(x)\n",
        "  big=LargeObjectAttention(x)\n",
        "  x1 = Conv2D(filters=256, kernel_size=(3, 3), activation='relu', padding='same')(x)\n",
        "  x2=BatchNormalization()(x1)\n",
        "  x3= Conv2D(filters=256, kernel_size=(3, 3), activation='relu', padding='same')(x2)\n",
        "  x4=BatchNormalization()(x3)\n",
        "  x5 = Conv2D(filters=256, kernel_size=(3, 3), activation='relu', padding='same')(x4)\n",
        "  x6=BatchNormalization()(x5)\n",
        "  x7= channel_attention(x6)\n",
        "  x8=spatial_attention(x7)\n",
        "  x9= Concatenate()([small,big,x8])\n",
        "  # Add the final layers for classification/regression\n",
        "  x10= Dropout(0.5)(x9)\n",
        "  x11 = GlobalAveragePooling2D()(x10)\n",
        "  #y = GlobalAveragePooling2D()(y)\n",
        "  x12 = Dense(512, activation='relu')(x11)\n",
        "  x13 = Dense(256, activation='relu')(x12)\n",
        "  f = keras.layers.Concatenate(axis=1)([x13,gender_embedding])\n",
        "  print (K.int_shape(f))\n",
        "  #x = Dense(256, activation='relu')(x)\n",
        "  predictions = Dense(1)(f)\n",
        "  model = Model(inputs=[input,input_gender], outputs=predictions)\n",
        "  return model"
      ]
    },
    {
      "cell_type": "code",
      "source": [
        "model1=modelsb()\n",
        "Adam=keras.optimizers.Adam(lr=0.0003,beta_1=0.9,beta_2=0.999)\n",
        "# Compile the model\n",
        "model1.compile(optimizer=Adam, loss='mean_absolute_error', metrics=['mae'])\n",
        "\n",
        "\n",
        "# Print the model summary\n",
        "model1.summary()"
      ],
      "metadata": {
        "id": "OeQE2hXvMDyx",
        "colab": {
          "base_uri": "https://localhost:8080/"
        },
        "outputId": "90d8966a-1a34-4290-ced6-e0aa21fca3e1"
      },
      "execution_count": 50,
      "outputs": [
        {
          "output_type": "stream",
          "name": "stdout",
          "text": [
            "(None, 288)\n",
            "Model: \"model\"\n",
            "__________________________________________________________________________________________________\n",
            " Layer (type)                   Output Shape         Param #     Connected to                     \n",
            "==================================================================================================\n",
            " input1 (InputLayer)            [(None, 256, 256, 3  0           []                               \n",
            "                                )]                                                                \n",
            "                                                                                                  \n",
            " xception (Functional)          (None, None, None,   20861480    ['input1[0][0]']                 \n",
            "                                2048)                                                             \n",
            "                                                                                                  \n",
            " conv2d_4 (Conv2D)              (None, 8, 8, 256)    4718848     ['xception[0][0]']               \n",
            "                                                                                                  \n",
            " batch_normalization_4 (BatchNo  (None, 8, 8, 256)   1024        ['conv2d_4[0][0]']               \n",
            " rmalization)                                                                                     \n",
            "                                                                                                  \n",
            " conv2d_5 (Conv2D)              (None, 8, 8, 256)    590080      ['batch_normalization_4[0][0]']  \n"
          ]
        },
        {
          "output_type": "stream",
          "name": "stderr",
          "text": [
            "/usr/local/lib/python3.10/dist-packages/keras/initializers/initializers.py:120: UserWarning: The initializer VarianceScaling is unseeded and being called multiple times, which will return identical values each time (even if the initializer is unseeded). Please update your code to provide a seed to the initializer, or avoid using the same initalizer instance more than once.\n",
            "  warnings.warn(\n",
            "/usr/local/lib/python3.10/dist-packages/keras/optimizers/legacy/adam.py:117: UserWarning: The `lr` argument is deprecated, use `learning_rate` instead.\n",
            "  super().__init__(name, **kwargs)\n"
          ]
        },
        {
          "output_type": "stream",
          "name": "stdout",
          "text": [
            "                                                                                                  \n",
            " batch_normalization_5 (BatchNo  (None, 8, 8, 256)   1024        ['conv2d_5[0][0]']               \n",
            " rmalization)                                                                                     \n",
            "                                                                                                  \n",
            " conv2d_6 (Conv2D)              (None, 8, 8, 256)    590080      ['batch_normalization_5[0][0]']  \n",
            "                                                                                                  \n",
            " batch_normalization_6 (BatchNo  (None, 8, 8, 256)   1024        ['conv2d_6[0][0]']               \n",
            " rmalization)                                                                                     \n",
            "                                                                                                  \n",
            " tf.math.reduce_mean (TFOpLambd  (None, 1, 1, 256)   0           ['batch_normalization_6[0][0]']  \n",
            " a)                                                                                               \n",
            "                                                                                                  \n",
            " tf.math.reduce_max (TFOpLambda  (None, 1, 1, 256)   0           ['batch_normalization_6[0][0]']  \n",
            " )                                                                                                \n",
            "                                                                                                  \n",
            " dense_5 (Dense)                (None, 1, 1, 16)     4112        ['tf.math.reduce_mean[0][0]']    \n",
            "                                                                                                  \n",
            " dense_7 (Dense)                (None, 1, 1, 16)     4112        ['tf.math.reduce_max[0][0]']     \n",
            "                                                                                                  \n",
            " dense_6 (Dense)                (None, 1, 1, 256)    4352        ['dense_5[0][0]']                \n",
            "                                                                                                  \n",
            " dense_8 (Dense)                (None, 1, 1, 256)    4352        ['dense_7[0][0]']                \n",
            "                                                                                                  \n",
            " tf.__operators__.add (TFOpLamb  (None, 1, 1, 256)   0           ['dense_6[0][0]',                \n",
            " da)                                                              'dense_8[0][0]']                \n",
            "                                                                                                  \n",
            " tf.math.sigmoid (TFOpLambda)   (None, 1, 1, 256)    0           ['tf.__operators__.add[0][0]']   \n",
            "                                                                                                  \n",
            " global_average_pooling2d (Glob  (None, 2048)        0           ['xception[0][0]']               \n",
            " alAveragePooling2D)                                                                              \n",
            "                                                                                                  \n",
            " global_average_pooling2d_1 (Gl  (None, 2048)        0           ['xception[0][0]']               \n",
            " obalAveragePooling2D)                                                                            \n",
            "                                                                                                  \n",
            " tf.math.multiply (TFOpLambda)  (None, 8, 8, 256)    0           ['batch_normalization_6[0][0]',  \n",
            "                                                                  'tf.math.sigmoid[0][0]']        \n",
            "                                                                                                  \n",
            " dense_1 (Dense)                (None, 512)          1049088     ['global_average_pooling2d[0][0]'\n",
            "                                                                 ]                                \n",
            "                                                                                                  \n",
            " dense_3 (Dense)                (None, 128)          262272      ['global_average_pooling2d_1[0][0\n",
            "                                                                 ]']                              \n",
            "                                                                                                  \n",
            " tf.math.reduce_mean_1 (TFOpLam  (None, 8, 8, 1)     0           ['tf.math.multiply[0][0]']       \n",
            " bda)                                                                                             \n",
            "                                                                                                  \n",
            " tf.math.reduce_max_1 (TFOpLamb  (None, 8, 8, 1)     0           ['tf.math.multiply[0][0]']       \n",
            " da)                                                                                              \n",
            "                                                                                                  \n",
            " dense_2 (Dense)                (None, 2048)         1050624     ['dense_1[0][0]']                \n",
            "                                                                                                  \n",
            " dense_4 (Dense)                (None, 2048)         264192      ['dense_3[0][0]']                \n",
            "                                                                                                  \n",
            " tf.concat (TFOpLambda)         (None, 8, 8, 2)      0           ['tf.math.reduce_mean_1[0][0]',  \n",
            "                                                                  'tf.math.reduce_max_1[0][0]']   \n",
            "                                                                                                  \n",
            " reshape (Reshape)              (None, 1, 1, 2048)   0           ['dense_2[0][0]']                \n",
            "                                                                                                  \n",
            " reshape_1 (Reshape)            (None, 1, 1, 2048)   0           ['dense_4[0][0]']                \n",
            "                                                                                                  \n",
            " conv2d_7 (Conv2D)              (None, 8, 8, 1)      98          ['tf.concat[0][0]']              \n",
            "                                                                                                  \n",
            " multiply (Multiply)            (None, 8, 8, 2048)   0           ['xception[0][0]',               \n",
            "                                                                  'reshape[0][0]']                \n",
            "                                                                                                  \n",
            " multiply_1 (Multiply)          (None, 8, 8, 2048)   0           ['xception[0][0]',               \n",
            "                                                                  'reshape_1[0][0]']              \n",
            "                                                                                                  \n",
            " tf.math.sigmoid_1 (TFOpLambda)  (None, 8, 8, 1)     0           ['conv2d_7[0][0]']               \n",
            "                                                                                                  \n",
            " add_12 (Add)                   (None, 8, 8, 2048)   0           ['xception[0][0]',               \n",
            "                                                                  'multiply[0][0]']               \n",
            "                                                                                                  \n",
            " add_13 (Add)                   (None, 8, 8, 2048)   0           ['xception[0][0]',               \n",
            "                                                                  'multiply_1[0][0]']             \n",
            "                                                                                                  \n",
            " tf.math.multiply_1 (TFOpLambda  (None, 8, 8, 256)   0           ['tf.math.multiply[0][0]',       \n",
            " )                                                                'tf.math.sigmoid_1[0][0]']      \n",
            "                                                                                                  \n",
            " concatenate (Concatenate)      (None, 8, 8, 4352)   0           ['add_12[0][0]',                 \n",
            "                                                                  'add_13[0][0]',                 \n",
            "                                                                  'tf.math.multiply_1[0][0]']     \n",
            "                                                                                                  \n",
            " dropout (Dropout)              (None, 8, 8, 4352)   0           ['concatenate[0][0]']            \n",
            "                                                                                                  \n",
            " global_average_pooling2d_2 (Gl  (None, 4352)        0           ['dropout[0][0]']                \n",
            " obalAveragePooling2D)                                                                            \n",
            "                                                                                                  \n",
            " dense_9 (Dense)                (None, 512)          2228736     ['global_average_pooling2d_2[0][0\n",
            "                                                                 ]']                              \n",
            "                                                                                                  \n",
            " input2 (InputLayer)            [(None, 1)]          0           []                               \n",
            "                                                                                                  \n",
            " dense_10 (Dense)               (None, 256)          131328      ['dense_9[0][0]']                \n",
            "                                                                                                  \n",
            " dense (Dense)                  (None, 32)           64          ['input2[0][0]']                 \n",
            "                                                                                                  \n",
            " concatenate_1 (Concatenate)    (None, 288)          0           ['dense_10[0][0]',               \n",
            "                                                                  'dense[0][0]']                  \n",
            "                                                                                                  \n",
            " dense_11 (Dense)               (None, 1)            289         ['concatenate_1[0][0]']          \n",
            "                                                                                                  \n",
            "==================================================================================================\n",
            "Total params: 31,767,179\n",
            "Trainable params: 31,711,115\n",
            "Non-trainable params: 56,064\n",
            "__________________________________________________________________________________________________\n"
          ]
        }
      ]
    },
    {
      "cell_type": "code",
      "source": [
        "\n",
        "from keras.preprocessing.image import ImageDataGenerator\n",
        "DataGen = ImageDataGenerator(rotation_range=20,width_shift_range=0.15,height_shift_range=0.15,zoom_range=0.2,horizontal_flip=True)\n",
        "def Generator(x_train,gender_train,y_train,batch_size):\n",
        "    loopcount = len(y_train)//batch_size\n",
        "    i=0\n",
        "    while (True):\n",
        "        if i>loopcount:\n",
        "            i=0\n",
        "        # i=np.random.randint(0,loopcount)\n",
        "        x_train_batch = x_train[i*batch_size:(i+1)*batch_size,:,:,:]\n",
        "        x_train_batch = DataAugment(x_train_batch)\n",
        "        gender_train_batch = gender_train[i*batch_size:(i+1)*batch_size]\n",
        "        y_train_batch = y_train[i*batch_size:(i+1)*batch_size]\n",
        "        inputs = [x_train_batch,gender_train_batch]\n",
        "        target = y_train_batch\n",
        "        yield (inputs ,target)\n",
        "        i = i+1\n",
        "from keras.callbacks import ModelCheckpoint, LearningRateScheduler, EarlyStopping, ReduceLROnPlateau\n",
        "weight_path=\"/content/drive/MyDrive/{}_.h5\".format('MM1_1')\n",
        "\n",
        "checkpoint = ModelCheckpoint(weight_path, monitor='val_loss', verbose=1,\n",
        "                             save_best_only=True, mode='min', save_weights_only = True)\n",
        "\n",
        "\n",
        "reduceLROnPlat = ReduceLROnPlateau(monitor='val_loss', factor=0.8, patience=10, verbose=1, mode='auto', epsilon=0.0001, cooldown=5, min_lr=0.0001)\n",
        "early = EarlyStopping(monitor=\"val_loss\",\n",
        "                      mode=\"min\",\n",
        "                      patience=5) # probably needs to be more patient, but kaggle time is limited\n",
        "callbacks_list = [checkpoint, reduceLROnPlat]\n",
        "history = model1.fit_generator(DataGen.flow([train_x,train_gen],train_y,batch_size=16),steps_per_epoch=np.ceil(len(train_y)/16),epochs=100,verbose=1,validation_data=([valid_x,valid_gen],valid_y),callbacks=callbacks_list)\n",
        "#history = model.fit_generator(Generator(x_train,gender_train,y_train,batch_size),steps_per_epoch=np.ceil(len(y_train)/batch_size),epochs=10,verbose=1,validation_data=([x_valid,gender_valid],y_valid))\n",
        "#history=model.fit([x_train,gender_train],y_train,batch_size=32,epochs=5,verbose=1,validation_data=([x_valid,gender_valid],y_valid), callbacks = [checkpoint])\n",
        "#score = model.evaluate([test_x,test_gen], test_y, batch_size=4)\n",
        "\n",
        "# MAE:11.40"
      ],
      "metadata": {
        "id": "RwVGacS-MS8-",
        "colab": {
          "base_uri": "https://localhost:8080/"
        },
        "outputId": "cc08ddd5-a8b4-4146-f951-9b104b2ba14b"
      },
      "execution_count": 105,
      "outputs": [
        {
          "metadata": {
            "tags": null
          },
          "name": "stderr",
          "output_type": "stream",
          "text": [
            "WARNING:tensorflow:`epsilon` argument is deprecated and will be removed, use `min_delta` instead.\n",
            "<ipython-input-105-932444483018>:30: UserWarning: `Model.fit_generator` is deprecated and will be removed in a future version. Please use `Model.fit`, which supports generators.\n",
            "  history = model1.fit_generator(DataGen.flow([train_x,train_gen],train_y,batch_size=16),steps_per_epoch=np.ceil(len(train_y)/16),epochs=100,verbose=1,validation_data=([valid_x,valid_gen],valid_y),callbacks=callbacks_list)\n"
          ]
        },
        {
          "output_type": "stream",
          "name": "stdout",
          "text": [
            "Epoch 1/100\n",
            "223/223 [==============================] - ETA: 0s - loss: 27.4391 - mae: 27.4391\n",
            "Epoch 1: val_loss improved from inf to 20.27801, saving model to /content/drive/MyDrive/MM1_1_.h5\n",
            "223/223 [==============================] - 138s 546ms/step - loss: 27.4391 - mae: 27.4391 - val_loss: 20.2780 - val_mae: 20.2780 - lr: 3.0000e-04\n",
            "Epoch 2/100\n",
            "223/223 [==============================] - ETA: 0s - loss: 17.9328 - mae: 17.9328\n",
            "Epoch 2: val_loss did not improve from 20.27801\n",
            "223/223 [==============================] - 96s 432ms/step - loss: 17.9328 - mae: 17.9328 - val_loss: 21.5496 - val_mae: 21.5496 - lr: 3.0000e-04\n",
            "Epoch 3/100\n",
            "223/223 [==============================] - ETA: 0s - loss: 15.7449 - mae: 15.7449\n",
            "Epoch 3: val_loss did not improve from 20.27801\n",
            "223/223 [==============================] - 97s 436ms/step - loss: 15.7449 - mae: 15.7449 - val_loss: 23.0039 - val_mae: 23.0039 - lr: 3.0000e-04\n",
            "Epoch 4/100\n",
            "223/223 [==============================] - ETA: 0s - loss: 14.3486 - mae: 14.3486\n",
            "Epoch 4: val_loss improved from 20.27801 to 15.58961, saving model to /content/drive/MyDrive/MM1_1_.h5\n",
            "223/223 [==============================] - 118s 530ms/step - loss: 14.3486 - mae: 14.3486 - val_loss: 15.5896 - val_mae: 15.5896 - lr: 3.0000e-04\n",
            "Epoch 5/100\n",
            "223/223 [==============================] - ETA: 0s - loss: 13.2702 - mae: 13.2702\n",
            "Epoch 5: val_loss did not improve from 15.58961\n",
            "223/223 [==============================] - 98s 436ms/step - loss: 13.2702 - mae: 13.2702 - val_loss: 16.9050 - val_mae: 16.9050 - lr: 3.0000e-04\n",
            "Epoch 6/100\n",
            "223/223 [==============================] - ETA: 0s - loss: 12.7510 - mae: 12.7510\n",
            "Epoch 6: val_loss improved from 15.58961 to 13.86793, saving model to /content/drive/MyDrive/MM1_1_.h5\n",
            "223/223 [==============================] - 118s 527ms/step - loss: 12.7510 - mae: 12.7510 - val_loss: 13.8679 - val_mae: 13.8679 - lr: 3.0000e-04\n",
            "Epoch 7/100\n",
            "223/223 [==============================] - ETA: 0s - loss: 11.3553 - mae: 11.3553\n",
            "Epoch 7: val_loss improved from 13.86793 to 10.40735, saving model to /content/drive/MyDrive/MM1_1_.h5\n",
            "223/223 [==============================] - 123s 551ms/step - loss: 11.3553 - mae: 11.3553 - val_loss: 10.4073 - val_mae: 10.4073 - lr: 3.0000e-04\n",
            "Epoch 8/100\n",
            "223/223 [==============================] - ETA: 0s - loss: 12.7472 - mae: 12.7472\n",
            "Epoch 8: val_loss did not improve from 10.40735\n",
            "223/223 [==============================] - 98s 437ms/step - loss: 12.7472 - mae: 12.7472 - val_loss: 14.1482 - val_mae: 14.1482 - lr: 3.0000e-04\n",
            "Epoch 9/100\n",
            "223/223 [==============================] - ETA: 0s - loss: 11.5060 - mae: 11.5060\n",
            "Epoch 9: val_loss did not improve from 10.40735\n",
            "223/223 [==============================] - 98s 439ms/step - loss: 11.5060 - mae: 11.5060 - val_loss: 11.2497 - val_mae: 11.2497 - lr: 3.0000e-04\n",
            "Epoch 10/100\n",
            "223/223 [==============================] - ETA: 0s - loss: 10.6977 - mae: 10.6977\n",
            "Epoch 10: val_loss improved from 10.40735 to 9.36036, saving model to /content/drive/MyDrive/MM1_1_.h5\n",
            "223/223 [==============================] - 121s 541ms/step - loss: 10.6977 - mae: 10.6977 - val_loss: 9.3604 - val_mae: 9.3604 - lr: 3.0000e-04\n",
            "Epoch 11/100\n",
            "223/223 [==============================] - ETA: 0s - loss: 10.4682 - mae: 10.4682\n",
            "Epoch 11: val_loss did not improve from 9.36036\n",
            "223/223 [==============================] - 96s 430ms/step - loss: 10.4682 - mae: 10.4682 - val_loss: 10.9719 - val_mae: 10.9719 - lr: 3.0000e-04\n",
            "Epoch 12/100\n",
            "223/223 [==============================] - ETA: 0s - loss: 9.8799 - mae: 9.8799\n",
            "Epoch 12: val_loss did not improve from 9.36036\n",
            "223/223 [==============================] - 98s 438ms/step - loss: 9.8799 - mae: 9.8799 - val_loss: 15.6421 - val_mae: 15.6421 - lr: 3.0000e-04\n",
            "Epoch 13/100\n",
            "223/223 [==============================] - ETA: 0s - loss: 10.4516 - mae: 10.4516\n",
            "Epoch 13: val_loss improved from 9.36036 to 9.23626, saving model to /content/drive/MyDrive/MM1_1_.h5\n",
            "223/223 [==============================] - 124s 556ms/step - loss: 10.4516 - mae: 10.4516 - val_loss: 9.2363 - val_mae: 9.2363 - lr: 3.0000e-04\n",
            "Epoch 14/100\n",
            "223/223 [==============================] - ETA: 0s - loss: 9.4925 - mae: 9.4925\n",
            "Epoch 14: val_loss improved from 9.23626 to 9.12610, saving model to /content/drive/MyDrive/MM1_1_.h5\n",
            "223/223 [==============================] - 121s 542ms/step - loss: 9.4925 - mae: 9.4925 - val_loss: 9.1261 - val_mae: 9.1261 - lr: 3.0000e-04\n",
            "Epoch 15/100\n",
            "223/223 [==============================] - ETA: 0s - loss: 9.1867 - mae: 9.1867\n",
            "Epoch 15: val_loss improved from 9.12610 to 8.14876, saving model to /content/drive/MyDrive/MM1_1_.h5\n",
            "223/223 [==============================] - 121s 543ms/step - loss: 9.1867 - mae: 9.1867 - val_loss: 8.1488 - val_mae: 8.1488 - lr: 3.0000e-04\n",
            "Epoch 16/100\n",
            "223/223 [==============================] - ETA: 0s - loss: 9.0274 - mae: 9.0274\n",
            "Epoch 16: val_loss did not improve from 8.14876\n",
            "223/223 [==============================] - 98s 437ms/step - loss: 9.0274 - mae: 9.0274 - val_loss: 8.8114 - val_mae: 8.8114 - lr: 3.0000e-04\n",
            "Epoch 17/100\n",
            "223/223 [==============================] - ETA: 0s - loss: 9.1343 - mae: 9.1343\n",
            "Epoch 17: val_loss did not improve from 8.14876\n",
            "223/223 [==============================] - 93s 415ms/step - loss: 9.1343 - mae: 9.1343 - val_loss: 9.3607 - val_mae: 9.3607 - lr: 3.0000e-04\n",
            "Epoch 18/100\n",
            "223/223 [==============================] - ETA: 0s - loss: 8.9103 - mae: 8.9103\n",
            "Epoch 18: val_loss did not improve from 8.14876\n",
            "223/223 [==============================] - 98s 439ms/step - loss: 8.9103 - mae: 8.9103 - val_loss: 11.6136 - val_mae: 11.6136 - lr: 3.0000e-04\n",
            "Epoch 19/100\n",
            "223/223 [==============================] - ETA: 0s - loss: 8.7602 - mae: 8.7602\n",
            "Epoch 19: val_loss did not improve from 8.14876\n",
            "223/223 [==============================] - 95s 427ms/step - loss: 8.7602 - mae: 8.7602 - val_loss: 9.3397 - val_mae: 9.3397 - lr: 3.0000e-04\n",
            "Epoch 20/100\n",
            "223/223 [==============================] - ETA: 0s - loss: 8.6482 - mae: 8.6482\n",
            "Epoch 20: val_loss improved from 8.14876 to 7.97160, saving model to /content/drive/MyDrive/MM1_1_.h5\n",
            "223/223 [==============================] - 118s 531ms/step - loss: 8.6482 - mae: 8.6482 - val_loss: 7.9716 - val_mae: 7.9716 - lr: 3.0000e-04\n",
            "Epoch 21/100\n",
            "223/223 [==============================] - ETA: 0s - loss: 8.3783 - mae: 8.3783\n",
            "Epoch 21: val_loss did not improve from 7.97160\n",
            "223/223 [==============================] - 98s 439ms/step - loss: 8.3783 - mae: 8.3783 - val_loss: 9.3110 - val_mae: 9.3110 - lr: 3.0000e-04\n",
            "Epoch 22/100\n",
            "223/223 [==============================] - ETA: 0s - loss: 8.9789 - mae: 8.9789\n",
            "Epoch 22: val_loss did not improve from 7.97160\n",
            "223/223 [==============================] - 97s 433ms/step - loss: 8.9789 - mae: 8.9789 - val_loss: 9.0692 - val_mae: 9.0692 - lr: 3.0000e-04\n",
            "Epoch 23/100\n",
            "223/223 [==============================] - ETA: 0s - loss: 8.5175 - mae: 8.5175\n",
            "Epoch 23: val_loss did not improve from 7.97160\n",
            "223/223 [==============================] - 98s 440ms/step - loss: 8.5175 - mae: 8.5175 - val_loss: 8.0215 - val_mae: 8.0215 - lr: 3.0000e-04\n",
            "Epoch 24/100\n",
            "223/223 [==============================] - ETA: 0s - loss: 8.2661 - mae: 8.2661\n",
            "Epoch 24: val_loss improved from 7.97160 to 6.81884, saving model to /content/drive/MyDrive/MM1_1_.h5\n",
            "223/223 [==============================] - 120s 536ms/step - loss: 8.2661 - mae: 8.2661 - val_loss: 6.8188 - val_mae: 6.8188 - lr: 3.0000e-04\n",
            "Epoch 25/100\n",
            "223/223 [==============================] - ETA: 0s - loss: 7.6632 - mae: 7.6632\n",
            "Epoch 25: val_loss did not improve from 6.81884\n",
            "223/223 [==============================] - 96s 432ms/step - loss: 7.6632 - mae: 7.6632 - val_loss: 9.0241 - val_mae: 9.0241 - lr: 3.0000e-04\n",
            "Epoch 26/100\n",
            "223/223 [==============================] - ETA: 0s - loss: 7.9467 - mae: 7.9467\n",
            "Epoch 26: val_loss did not improve from 6.81884\n",
            "223/223 [==============================] - 98s 437ms/step - loss: 7.9467 - mae: 7.9467 - val_loss: 7.6485 - val_mae: 7.6485 - lr: 3.0000e-04\n",
            "Epoch 27/100\n",
            "223/223 [==============================] - ETA: 0s - loss: 7.4524 - mae: 7.4524\n",
            "Epoch 27: val_loss did not improve from 6.81884\n",
            "223/223 [==============================] - 98s 439ms/step - loss: 7.4524 - mae: 7.4524 - val_loss: 7.8088 - val_mae: 7.8088 - lr: 3.0000e-04\n",
            "Epoch 28/100\n",
            "223/223 [==============================] - ETA: 0s - loss: 7.6473 - mae: 7.6473\n",
            "Epoch 28: val_loss did not improve from 6.81884\n",
            "223/223 [==============================] - 94s 422ms/step - loss: 7.6473 - mae: 7.6473 - val_loss: 8.4638 - val_mae: 8.4638 - lr: 3.0000e-04\n",
            "Epoch 29/100\n",
            "223/223 [==============================] - ETA: 0s - loss: 7.3816 - mae: 7.3816\n",
            "Epoch 29: val_loss did not improve from 6.81884\n",
            "223/223 [==============================] - 98s 439ms/step - loss: 7.3816 - mae: 7.3816 - val_loss: 7.2281 - val_mae: 7.2281 - lr: 3.0000e-04\n",
            "Epoch 30/100\n",
            "223/223 [==============================] - ETA: 0s - loss: 7.1356 - mae: 7.1356\n",
            "Epoch 30: val_loss did not improve from 6.81884\n",
            "223/223 [==============================] - 98s 438ms/step - loss: 7.1356 - mae: 7.1356 - val_loss: 9.0131 - val_mae: 9.0131 - lr: 3.0000e-04\n",
            "Epoch 31/100\n",
            "223/223 [==============================] - ETA: 0s - loss: 6.9945 - mae: 6.9945\n",
            "Epoch 31: val_loss did not improve from 6.81884\n",
            "223/223 [==============================] - 97s 432ms/step - loss: 6.9945 - mae: 6.9945 - val_loss: 7.4213 - val_mae: 7.4213 - lr: 3.0000e-04\n",
            "Epoch 32/100\n",
            "223/223 [==============================] - ETA: 0s - loss: 7.0547 - mae: 7.0547\n",
            "Epoch 32: val_loss did not improve from 6.81884\n",
            "223/223 [==============================] - 93s 418ms/step - loss: 7.0547 - mae: 7.0547 - val_loss: 8.8937 - val_mae: 8.8937 - lr: 3.0000e-04\n",
            "Epoch 33/100\n",
            "223/223 [==============================] - ETA: 0s - loss: 6.9209 - mae: 6.9209\n",
            "Epoch 33: val_loss improved from 6.81884 to 6.78955, saving model to /content/drive/MyDrive/MM1_1_.h5\n",
            "223/223 [==============================] - 125s 559ms/step - loss: 6.9209 - mae: 6.9209 - val_loss: 6.7895 - val_mae: 6.7895 - lr: 3.0000e-04\n",
            "Epoch 34/100\n",
            "223/223 [==============================] - ETA: 0s - loss: 6.9223 - mae: 6.9223\n",
            "Epoch 34: val_loss improved from 6.78955 to 6.70952, saving model to /content/drive/MyDrive/MM1_1_.h5\n",
            "223/223 [==============================] - 128s 572ms/step - loss: 6.9223 - mae: 6.9223 - val_loss: 6.7095 - val_mae: 6.7095 - lr: 3.0000e-04\n",
            "Epoch 35/100\n",
            "223/223 [==============================] - ETA: 0s - loss: 6.6478 - mae: 6.6478\n",
            "Epoch 35: val_loss improved from 6.70952 to 6.38256, saving model to /content/drive/MyDrive/MM1_1_.h5\n",
            "223/223 [==============================] - 127s 570ms/step - loss: 6.6478 - mae: 6.6478 - val_loss: 6.3826 - val_mae: 6.3826 - lr: 3.0000e-04\n",
            "Epoch 36/100\n",
            "223/223 [==============================] - ETA: 0s - loss: 6.5420 - mae: 6.5420\n",
            "Epoch 36: val_loss did not improve from 6.38256\n",
            "223/223 [==============================] - 96s 431ms/step - loss: 6.5420 - mae: 6.5420 - val_loss: 7.4891 - val_mae: 7.4891 - lr: 3.0000e-04\n",
            "Epoch 37/100\n",
            "223/223 [==============================] - ETA: 0s - loss: 6.6726 - mae: 6.6726\n",
            "Epoch 37: val_loss did not improve from 6.38256\n",
            "223/223 [==============================] - 98s 438ms/step - loss: 6.6726 - mae: 6.6726 - val_loss: 7.0384 - val_mae: 7.0384 - lr: 3.0000e-04\n",
            "Epoch 38/100\n",
            "223/223 [==============================] - ETA: 0s - loss: 6.5080 - mae: 6.5080\n",
            "Epoch 38: val_loss did not improve from 6.38256\n",
            "223/223 [==============================] - 98s 438ms/step - loss: 6.5080 - mae: 6.5080 - val_loss: 6.9065 - val_mae: 6.9065 - lr: 3.0000e-04\n",
            "Epoch 39/100\n",
            "223/223 [==============================] - ETA: 0s - loss: 6.3013 - mae: 6.3013\n",
            "Epoch 39: val_loss did not improve from 6.38256\n",
            "223/223 [==============================] - 96s 432ms/step - loss: 6.3013 - mae: 6.3013 - val_loss: 8.1171 - val_mae: 8.1171 - lr: 3.0000e-04\n",
            "Epoch 40/100\n",
            "223/223 [==============================] - ETA: 0s - loss: 6.3540 - mae: 6.3540\n",
            "Epoch 40: val_loss did not improve from 6.38256\n",
            "223/223 [==============================] - 95s 423ms/step - loss: 6.3540 - mae: 6.3540 - val_loss: 8.1284 - val_mae: 8.1284 - lr: 3.0000e-04\n",
            "Epoch 41/100\n",
            "223/223 [==============================] - ETA: 0s - loss: 6.7968 - mae: 6.7968\n",
            "Epoch 41: val_loss did not improve from 6.38256\n",
            "223/223 [==============================] - 98s 441ms/step - loss: 6.7968 - mae: 6.7968 - val_loss: 6.9666 - val_mae: 6.9666 - lr: 3.0000e-04\n",
            "Epoch 42/100\n",
            "223/223 [==============================] - ETA: 0s - loss: 6.1022 - mae: 6.1022\n",
            "Epoch 42: val_loss did not improve from 6.38256\n",
            "223/223 [==============================] - 94s 419ms/step - loss: 6.1022 - mae: 6.1022 - val_loss: 8.1818 - val_mae: 8.1818 - lr: 3.0000e-04\n",
            "Epoch 43/100\n",
            "223/223 [==============================] - ETA: 0s - loss: 6.1485 - mae: 6.1485\n",
            "Epoch 43: val_loss did not improve from 6.38256\n",
            "223/223 [==============================] - 98s 440ms/step - loss: 6.1485 - mae: 6.1485 - val_loss: 7.9806 - val_mae: 7.9806 - lr: 3.0000e-04\n",
            "Epoch 44/100\n",
            "223/223 [==============================] - ETA: 0s - loss: 6.2249 - mae: 6.2249\n",
            "Epoch 44: val_loss did not improve from 6.38256\n",
            "223/223 [==============================] - 98s 438ms/step - loss: 6.2249 - mae: 6.2249 - val_loss: 10.1859 - val_mae: 10.1859 - lr: 3.0000e-04\n",
            "Epoch 45/100\n",
            "223/223 [==============================] - ETA: 0s - loss: 6.1316 - mae: 6.1316\n",
            "Epoch 45: val_loss did not improve from 6.38256\n",
            "\n",
            "Epoch 45: ReduceLROnPlateau reducing learning rate to 0.00024000001139938833.\n",
            "223/223 [==============================] - 98s 440ms/step - loss: 6.1316 - mae: 6.1316 - val_loss: 6.8699 - val_mae: 6.8699 - lr: 3.0000e-04\n",
            "Epoch 46/100\n",
            "223/223 [==============================] - ETA: 0s - loss: 5.4121 - mae: 5.4121\n",
            "Epoch 46: val_loss improved from 6.38256 to 5.44218, saving model to /content/drive/MyDrive/MM1_1_.h5\n",
            "223/223 [==============================] - 127s 571ms/step - loss: 5.4121 - mae: 5.4121 - val_loss: 5.4422 - val_mae: 5.4422 - lr: 2.4000e-04\n",
            "Epoch 47/100\n",
            "223/223 [==============================] - ETA: 0s - loss: 5.4007 - mae: 5.4007\n",
            "Epoch 47: val_loss did not improve from 5.44218\n",
            "223/223 [==============================] - 97s 432ms/step - loss: 5.4007 - mae: 5.4007 - val_loss: 5.6099 - val_mae: 5.6099 - lr: 2.4000e-04\n",
            "Epoch 48/100\n",
            "223/223 [==============================] - ETA: 0s - loss: 5.2829 - mae: 5.2829\n",
            "Epoch 48: val_loss did not improve from 5.44218\n",
            "223/223 [==============================] - 95s 425ms/step - loss: 5.2829 - mae: 5.2829 - val_loss: 6.0761 - val_mae: 6.0761 - lr: 2.4000e-04\n",
            "Epoch 49/100\n",
            "223/223 [==============================] - ETA: 0s - loss: 5.3564 - mae: 5.3564\n",
            "Epoch 49: val_loss did not improve from 5.44218\n",
            "223/223 [==============================] - 98s 438ms/step - loss: 5.3564 - mae: 5.3564 - val_loss: 9.1827 - val_mae: 9.1827 - lr: 2.4000e-04\n",
            "Epoch 50/100\n",
            "223/223 [==============================] - ETA: 0s - loss: 5.1903 - mae: 5.1903\n",
            "Epoch 50: val_loss improved from 5.44218 to 5.04449, saving model to /content/drive/MyDrive/MM1_1_.h5\n",
            "223/223 [==============================] - 133s 598ms/step - loss: 5.1903 - mae: 5.1903 - val_loss: 5.0445 - val_mae: 5.0445 - lr: 2.4000e-04\n",
            "Epoch 51/100\n",
            "223/223 [==============================] - ETA: 0s - loss: 5.2769 - mae: 5.2769\n",
            "Epoch 51: val_loss did not improve from 5.04449\n",
            "223/223 [==============================] - 97s 433ms/step - loss: 5.2769 - mae: 5.2769 - val_loss: 8.6598 - val_mae: 8.6598 - lr: 2.4000e-04\n",
            "Epoch 52/100\n",
            "223/223 [==============================] - ETA: 0s - loss: 5.3786 - mae: 5.3786\n",
            "Epoch 52: val_loss did not improve from 5.04449\n",
            "223/223 [==============================] - 98s 437ms/step - loss: 5.3786 - mae: 5.3786 - val_loss: 5.3563 - val_mae: 5.3563 - lr: 2.4000e-04\n",
            "Epoch 53/100\n",
            "223/223 [==============================] - ETA: 0s - loss: 5.1169 - mae: 5.1169\n",
            "Epoch 53: val_loss did not improve from 5.04449\n",
            "223/223 [==============================] - 97s 434ms/step - loss: 5.1169 - mae: 5.1169 - val_loss: 7.2326 - val_mae: 7.2326 - lr: 2.4000e-04\n",
            "Epoch 54/100\n",
            "223/223 [==============================] - ETA: 0s - loss: 5.0111 - mae: 5.0111\n",
            "Epoch 54: val_loss did not improve from 5.04449\n",
            "223/223 [==============================] - 96s 430ms/step - loss: 5.0111 - mae: 5.0111 - val_loss: 8.4990 - val_mae: 8.4990 - lr: 2.4000e-04\n",
            "Epoch 55/100\n",
            "223/223 [==============================] - ETA: 0s - loss: 4.7156 - mae: 4.7156\n",
            "Epoch 55: val_loss did not improve from 5.04449\n",
            "223/223 [==============================] - 97s 436ms/step - loss: 4.7156 - mae: 4.7156 - val_loss: 5.9654 - val_mae: 5.9654 - lr: 2.4000e-04\n",
            "Epoch 56/100\n",
            "223/223 [==============================] - ETA: 0s - loss: 4.8278 - mae: 4.8278\n",
            "Epoch 56: val_loss did not improve from 5.04449\n",
            "223/223 [==============================] - 98s 438ms/step - loss: 4.8278 - mae: 4.8278 - val_loss: 7.5970 - val_mae: 7.5970 - lr: 2.4000e-04\n",
            "Epoch 57/100\n",
            "223/223 [==============================] - ETA: 0s - loss: 5.0073 - mae: 5.0073\n",
            "Epoch 57: val_loss did not improve from 5.04449\n",
            "223/223 [==============================] - 94s 422ms/step - loss: 5.0073 - mae: 5.0073 - val_loss: 5.1316 - val_mae: 5.1316 - lr: 2.4000e-04\n",
            "Epoch 58/100\n",
            "223/223 [==============================] - ETA: 0s - loss: 4.7760 - mae: 4.7760\n",
            "Epoch 58: val_loss did not improve from 5.04449\n",
            "223/223 [==============================] - 95s 424ms/step - loss: 4.7760 - mae: 4.7760 - val_loss: 5.4820 - val_mae: 5.4820 - lr: 2.4000e-04\n",
            "Epoch 59/100\n",
            "223/223 [==============================] - ETA: 0s - loss: 4.6359 - mae: 4.6359\n",
            "Epoch 59: val_loss improved from 5.04449 to 5.01795, saving model to /content/drive/MyDrive/MM1_1_.h5\n",
            "223/223 [==============================] - 133s 599ms/step - loss: 4.6359 - mae: 4.6359 - val_loss: 5.0179 - val_mae: 5.0179 - lr: 2.4000e-04\n",
            "Epoch 60/100\n",
            "223/223 [==============================] - ETA: 0s - loss: 4.8920 - mae: 4.8920\n",
            "Epoch 60: val_loss did not improve from 5.01795\n",
            "223/223 [==============================] - 97s 434ms/step - loss: 4.8920 - mae: 4.8920 - val_loss: 5.4696 - val_mae: 5.4696 - lr: 2.4000e-04\n",
            "Epoch 61/100\n",
            "223/223 [==============================] - ETA: 0s - loss: 4.7543 - mae: 4.7543\n",
            "Epoch 61: val_loss improved from 5.01795 to 4.94033, saving model to /content/drive/MyDrive/MM1_1_.h5\n",
            "223/223 [==============================] - 131s 587ms/step - loss: 4.7543 - mae: 4.7543 - val_loss: 4.9403 - val_mae: 4.9403 - lr: 2.4000e-04\n",
            "Epoch 62/100\n",
            "223/223 [==============================] - ETA: 0s - loss: 4.7944 - mae: 4.7944\n",
            "Epoch 62: val_loss did not improve from 4.94033\n",
            "223/223 [==============================] - 93s 415ms/step - loss: 4.7944 - mae: 4.7944 - val_loss: 6.2471 - val_mae: 6.2471 - lr: 2.4000e-04\n",
            "Epoch 63/100\n",
            "223/223 [==============================] - ETA: 0s - loss: 4.6221 - mae: 4.6221\n",
            "Epoch 63: val_loss improved from 4.94033 to 4.91774, saving model to /content/drive/MyDrive/MM1_1_.h5\n",
            "223/223 [==============================] - 118s 528ms/step - loss: 4.6221 - mae: 4.6221 - val_loss: 4.9177 - val_mae: 4.9177 - lr: 2.4000e-04\n",
            "Epoch 64/100\n",
            "223/223 [==============================] - ETA: 0s - loss: 4.7528 - mae: 4.7528\n",
            "Epoch 64: val_loss did not improve from 4.91774\n",
            "223/223 [==============================] - 97s 435ms/step - loss: 4.7528 - mae: 4.7528 - val_loss: 6.1736 - val_mae: 6.1736 - lr: 2.4000e-04\n",
            "Epoch 65/100\n",
            "223/223 [==============================] - ETA: 0s - loss: 4.7000 - mae: 4.7000\n",
            "Epoch 65: val_loss did not improve from 4.91774\n",
            "223/223 [==============================] - 98s 439ms/step - loss: 4.7000 - mae: 4.7000 - val_loss: 5.9083 - val_mae: 5.9083 - lr: 2.4000e-04\n",
            "Epoch 66/100\n",
            "223/223 [==============================] - ETA: 0s - loss: 4.3839 - mae: 4.3839\n",
            "Epoch 66: val_loss did not improve from 4.91774\n",
            "223/223 [==============================] - 98s 440ms/step - loss: 4.3839 - mae: 4.3839 - val_loss: 5.4662 - val_mae: 5.4662 - lr: 2.4000e-04\n",
            "Epoch 67/100\n",
            "223/223 [==============================] - ETA: 0s - loss: 4.5528 - mae: 4.5528\n",
            "Epoch 67: val_loss did not improve from 4.91774\n",
            "223/223 [==============================] - 98s 438ms/step - loss: 4.5528 - mae: 4.5528 - val_loss: 4.9566 - val_mae: 4.9566 - lr: 2.4000e-04\n",
            "Epoch 68/100\n",
            "223/223 [==============================] - ETA: 0s - loss: 4.4597 - mae: 4.4597\n",
            "Epoch 68: val_loss did not improve from 4.91774\n",
            "223/223 [==============================] - 95s 424ms/step - loss: 4.4597 - mae: 4.4597 - val_loss: 5.2483 - val_mae: 5.2483 - lr: 2.4000e-04\n",
            "Epoch 69/100\n",
            "223/223 [==============================] - ETA: 0s - loss: 4.4302 - mae: 4.4302\n",
            "Epoch 69: val_loss did not improve from 4.91774\n",
            "223/223 [==============================] - 94s 422ms/step - loss: 4.4302 - mae: 4.4302 - val_loss: 5.1173 - val_mae: 5.1173 - lr: 2.4000e-04\n",
            "Epoch 70/100\n",
            "223/223 [==============================] - ETA: 0s - loss: 4.2438 - mae: 4.2438\n",
            "Epoch 70: val_loss improved from 4.91774 to 4.72871, saving model to /content/drive/MyDrive/MM1_1_.h5\n",
            "223/223 [==============================] - 129s 579ms/step - loss: 4.2438 - mae: 4.2438 - val_loss: 4.7287 - val_mae: 4.7287 - lr: 2.4000e-04\n",
            "Epoch 71/100\n",
            "223/223 [==============================] - ETA: 0s - loss: 4.3355 - mae: 4.3355\n",
            "Epoch 71: val_loss did not improve from 4.72871\n",
            "223/223 [==============================] - 95s 424ms/step - loss: 4.3355 - mae: 4.3355 - val_loss: 5.9640 - val_mae: 5.9640 - lr: 2.4000e-04\n",
            "Epoch 72/100\n",
            "223/223 [==============================] - ETA: 0s - loss: 4.3598 - mae: 4.3598\n",
            "Epoch 72: val_loss improved from 4.72871 to 4.64938, saving model to /content/drive/MyDrive/MM1_1_.h5\n",
            "223/223 [==============================] - 128s 576ms/step - loss: 4.3598 - mae: 4.3598 - val_loss: 4.6494 - val_mae: 4.6494 - lr: 2.4000e-04\n",
            "Epoch 73/100\n",
            "223/223 [==============================] - ETA: 0s - loss: 4.2792 - mae: 4.2792\n",
            "Epoch 73: val_loss did not improve from 4.64938\n",
            "223/223 [==============================] - 95s 425ms/step - loss: 4.2792 - mae: 4.2792 - val_loss: 4.9710 - val_mae: 4.9710 - lr: 2.4000e-04\n",
            "Epoch 74/100\n",
            "223/223 [==============================] - ETA: 0s - loss: 4.3465 - mae: 4.3465\n",
            "Epoch 74: val_loss did not improve from 4.64938\n",
            "223/223 [==============================] - 98s 438ms/step - loss: 4.3465 - mae: 4.3465 - val_loss: 5.1316 - val_mae: 5.1316 - lr: 2.4000e-04\n",
            "Epoch 75/100\n",
            "223/223 [==============================] - ETA: 0s - loss: 4.2606 - mae: 4.2606\n",
            "Epoch 75: val_loss did not improve from 4.64938\n",
            "223/223 [==============================] - 95s 424ms/step - loss: 4.2606 - mae: 4.2606 - val_loss: 5.7633 - val_mae: 5.7633 - lr: 2.4000e-04\n",
            "Epoch 76/100\n",
            "223/223 [==============================] - ETA: 0s - loss: 4.0471 - mae: 4.0471\n",
            "Epoch 76: val_loss did not improve from 4.64938\n",
            "223/223 [==============================] - 97s 432ms/step - loss: 4.0471 - mae: 4.0471 - val_loss: 5.5963 - val_mae: 5.5963 - lr: 2.4000e-04\n",
            "Epoch 77/100\n",
            "223/223 [==============================] - ETA: 0s - loss: 4.3555 - mae: 4.3555\n",
            "Epoch 77: val_loss did not improve from 4.64938\n",
            "223/223 [==============================] - 97s 432ms/step - loss: 4.3555 - mae: 4.3555 - val_loss: 5.8439 - val_mae: 5.8439 - lr: 2.4000e-04\n",
            "Epoch 78/100\n",
            "223/223 [==============================] - ETA: 0s - loss: 4.0060 - mae: 4.0060\n",
            "Epoch 78: val_loss did not improve from 4.64938\n",
            "223/223 [==============================] - 94s 420ms/step - loss: 4.0060 - mae: 4.0060 - val_loss: 6.3010 - val_mae: 6.3010 - lr: 2.4000e-04\n",
            "Epoch 79/100\n",
            "223/223 [==============================] - ETA: 0s - loss: 4.1226 - mae: 4.1226\n",
            "Epoch 79: val_loss improved from 4.64938 to 4.44226, saving model to /content/drive/MyDrive/MM1_1_.h5\n",
            "223/223 [==============================] - 104s 466ms/step - loss: 4.1226 - mae: 4.1226 - val_loss: 4.4423 - val_mae: 4.4423 - lr: 2.4000e-04\n",
            "Epoch 80/100\n",
            "223/223 [==============================] - ETA: 0s - loss: 4.1232 - mae: 4.1232\n",
            "Epoch 80: val_loss did not improve from 4.44226\n",
            "223/223 [==============================] - 94s 420ms/step - loss: 4.1232 - mae: 4.1232 - val_loss: 5.3159 - val_mae: 5.3159 - lr: 2.4000e-04\n",
            "Epoch 81/100\n",
            "223/223 [==============================] - ETA: 0s - loss: 4.1597 - mae: 4.1597\n",
            "Epoch 81: val_loss did not improve from 4.44226\n",
            "223/223 [==============================] - 93s 418ms/step - loss: 4.1597 - mae: 4.1597 - val_loss: 4.4560 - val_mae: 4.4560 - lr: 2.4000e-04\n",
            "Epoch 82/100\n",
            "223/223 [==============================] - ETA: 0s - loss: 3.9660 - mae: 3.9660\n",
            "Epoch 82: val_loss improved from 4.44226 to 4.17773, saving model to /content/drive/MyDrive/MM1_1_.h5\n",
            "223/223 [==============================] - 103s 462ms/step - loss: 3.9660 - mae: 3.9660 - val_loss: 4.1777 - val_mae: 4.1777 - lr: 2.4000e-04\n",
            "Epoch 83/100\n",
            "223/223 [==============================] - ETA: 0s - loss: 4.1878 - mae: 4.1878\n",
            "Epoch 83: val_loss did not improve from 4.17773\n",
            "223/223 [==============================] - 98s 437ms/step - loss: 4.1878 - mae: 4.1878 - val_loss: 4.9623 - val_mae: 4.9623 - lr: 2.4000e-04\n",
            "Epoch 84/100\n",
            "223/223 [==============================] - ETA: 0s - loss: 3.8425 - mae: 3.8425\n",
            "Epoch 84: val_loss did not improve from 4.17773\n",
            "223/223 [==============================] - 97s 436ms/step - loss: 3.8425 - mae: 3.8425 - val_loss: 4.4653 - val_mae: 4.4653 - lr: 2.4000e-04\n",
            "Epoch 85/100\n",
            "223/223 [==============================] - ETA: 0s - loss: 3.8250 - mae: 3.8250\n",
            "Epoch 85: val_loss did not improve from 4.17773\n",
            "223/223 [==============================] - 97s 433ms/step - loss: 3.8250 - mae: 3.8250 - val_loss: 5.3695 - val_mae: 5.3695 - lr: 2.4000e-04\n",
            "Epoch 86/100\n",
            "223/223 [==============================] - ETA: 0s - loss: 4.2422 - mae: 4.2422\n",
            "Epoch 86: val_loss did not improve from 4.17773\n",
            "223/223 [==============================] - 98s 439ms/step - loss: 4.2422 - mae: 4.2422 - val_loss: 4.2913 - val_mae: 4.2913 - lr: 2.4000e-04\n",
            "Epoch 87/100\n",
            "223/223 [==============================] - ETA: 0s - loss: 3.8671 - mae: 3.8671\n",
            "Epoch 87: val_loss did not improve from 4.17773\n",
            "223/223 [==============================] - 96s 431ms/step - loss: 3.8671 - mae: 3.8671 - val_loss: 6.8169 - val_mae: 6.8169 - lr: 2.4000e-04\n",
            "Epoch 88/100\n",
            "223/223 [==============================] - ETA: 0s - loss: 3.7770 - mae: 3.7770\n",
            "Epoch 88: val_loss did not improve from 4.17773\n",
            "223/223 [==============================] - 94s 420ms/step - loss: 3.7770 - mae: 3.7770 - val_loss: 4.6525 - val_mae: 4.6525 - lr: 2.4000e-04\n",
            "Epoch 89/100\n",
            "223/223 [==============================] - ETA: 0s - loss: 3.7125 - mae: 3.7125\n",
            "Epoch 89: val_loss did not improve from 4.17773\n",
            "223/223 [==============================] - 97s 436ms/step - loss: 3.7125 - mae: 3.7125 - val_loss: 4.7238 - val_mae: 4.7238 - lr: 2.4000e-04\n",
            "Epoch 90/100\n",
            "223/223 [==============================] - ETA: 0s - loss: 3.8200 - mae: 3.8200\n",
            "Epoch 90: val_loss did not improve from 4.17773\n",
            "223/223 [==============================] - 98s 436ms/step - loss: 3.8200 - mae: 3.8200 - val_loss: 4.2190 - val_mae: 4.2190 - lr: 2.4000e-04\n",
            "Epoch 91/100\n",
            "223/223 [==============================] - ETA: 0s - loss: 3.6540 - mae: 3.6540\n",
            "Epoch 91: val_loss did not improve from 4.17773\n",
            "223/223 [==============================] - 97s 434ms/step - loss: 3.6540 - mae: 3.6540 - val_loss: 4.1854 - val_mae: 4.1854 - lr: 2.4000e-04\n",
            "Epoch 92/100\n",
            "223/223 [==============================] - ETA: 0s - loss: 3.9742 - mae: 3.9742\n",
            "Epoch 92: val_loss did not improve from 4.17773\n",
            "\n",
            "Epoch 92: ReduceLROnPlateau reducing learning rate to 0.00019200000679120421.\n",
            "223/223 [==============================] - 98s 437ms/step - loss: 3.9742 - mae: 3.9742 - val_loss: 5.0065 - val_mae: 5.0065 - lr: 2.4000e-04\n",
            "Epoch 93/100\n",
            "223/223 [==============================] - ETA: 0s - loss: 3.5930 - mae: 3.5930\n",
            "Epoch 93: val_loss did not improve from 4.17773\n",
            "223/223 [==============================] - 96s 430ms/step - loss: 3.5930 - mae: 3.5930 - val_loss: 4.7368 - val_mae: 4.7368 - lr: 1.9200e-04\n",
            "Epoch 94/100\n",
            "223/223 [==============================] - ETA: 0s - loss: 3.4557 - mae: 3.4557\n",
            "Epoch 94: val_loss improved from 4.17773 to 3.92819, saving model to /content/drive/MyDrive/MM1_1_.h5\n",
            "223/223 [==============================] - 108s 482ms/step - loss: 3.4557 - mae: 3.4557 - val_loss: 3.9282 - val_mae: 3.9282 - lr: 1.9200e-04\n",
            "Epoch 95/100\n",
            "223/223 [==============================] - ETA: 0s - loss: 3.3563 - mae: 3.3563\n",
            "Epoch 95: val_loss did not improve from 3.92819\n",
            "223/223 [==============================] - 98s 436ms/step - loss: 3.3563 - mae: 3.3563 - val_loss: 5.3797 - val_mae: 5.3797 - lr: 1.9200e-04\n",
            "Epoch 96/100\n",
            "223/223 [==============================] - ETA: 0s - loss: 3.3264 - mae: 3.3264\n",
            "Epoch 96: val_loss did not improve from 3.92819\n",
            "223/223 [==============================] - 97s 435ms/step - loss: 3.3264 - mae: 3.3264 - val_loss: 4.4452 - val_mae: 4.4452 - lr: 1.9200e-04\n",
            "Epoch 97/100\n",
            "223/223 [==============================] - ETA: 0s - loss: 3.4838 - mae: 3.4838\n",
            "Epoch 97: val_loss did not improve from 3.92819\n",
            "223/223 [==============================] - 97s 435ms/step - loss: 3.4838 - mae: 3.4838 - val_loss: 4.1157 - val_mae: 4.1157 - lr: 1.9200e-04\n",
            "Epoch 98/100\n",
            "223/223 [==============================] - ETA: 0s - loss: 3.2259 - mae: 3.2259\n",
            "Epoch 98: val_loss improved from 3.92819 to 3.69745, saving model to /content/drive/MyDrive/MM1_1_.h5\n",
            "223/223 [==============================] - 105s 471ms/step - loss: 3.2259 - mae: 3.2259 - val_loss: 3.6975 - val_mae: 3.6975 - lr: 1.9200e-04\n",
            "Epoch 99/100\n",
            "223/223 [==============================] - ETA: 0s - loss: 3.1866 - mae: 3.1866\n",
            "Epoch 99: val_loss did not improve from 3.69745\n",
            "223/223 [==============================] - 98s 437ms/step - loss: 3.1866 - mae: 3.1866 - val_loss: 4.6862 - val_mae: 4.6862 - lr: 1.9200e-04\n",
            "Epoch 100/100\n",
            "223/223 [==============================] - ETA: 0s - loss: 3.5115 - mae: 3.5115\n",
            "Epoch 100: val_loss did not improve from 3.69745\n",
            "223/223 [==============================] - 97s 434ms/step - loss: 3.5115 - mae: 3.5115 - val_loss: 4.4047 - val_mae: 4.4047 - lr: 1.9200e-04\n"
          ]
        }
      ]
    },
    {
      "cell_type": "code",
      "source": [
        "import matplotlib.pyplot as plt\n",
        "plt.plot(history.history['loss'])\n",
        "plt.plot(history.history['val_loss'])\n",
        "plt.title('Model loss')\n",
        "plt.ylabel('Loss')\n",
        "plt.xlabel('Epoch')\n",
        "plt.legend(['Train', 'Validation'], loc='upper right')\n",
        "plt.show()"
      ],
      "metadata": {
        "colab": {
          "base_uri": "https://localhost:8080/",
          "height": 472
        },
        "id": "tAlDuAAi4uNt",
        "outputId": "e5b2fceb-a8a9-4da9-b29c-fa6cf78836a5"
      },
      "execution_count": 106,
      "outputs": [
        {
          "output_type": "display_data",
          "data": {
            "text/plain": [
              "<Figure size 640x480 with 1 Axes>"
            ],
            "image/png": "[encoded data removed]"
          },
          "metadata": {}
        }
      ]
    },
    {
      "cell_type": "code",
      "source": [
        "score = model.evaluate([test_x,test_gen], test_y, batch_size=64)"
      ],
      "metadata": {
        "colab": {
          "base_uri": "https://localhost:8080/",
          "height": 165
        },
        "id": "otZLjyUCc-s-",
        "outputId": "2f4cf272-943e-4a5e-c52e-bc1da816259d"
      },
      "execution_count": 107,
      "outputs": [
        {
          "output_type": "error",
          "ename": "NameError",
          "evalue": "ignored",
          "traceback": [
            "\u001b[0;31m---------------------------------------------------------------------------\u001b[0m",
            "\u001b[0;31mNameError\u001b[0m                                 Traceback (most recent call last)",
            "\u001b[0;32m<ipython-input-107-4ae7a1a6fcca>\u001b[0m in \u001b[0;36m<cell line: 1>\u001b[0;34m()\u001b[0m\n\u001b[0;32m----> 1\u001b[0;31m \u001b[0mscore\u001b[0m \u001b[0;34m=\u001b[0m \u001b[0mmodel\u001b[0m\u001b[0;34m.\u001b[0m\u001b[0mevaluate\u001b[0m\u001b[0;34m(\u001b[0m\u001b[0;34m[\u001b[0m\u001b[0mtest_x\u001b[0m\u001b[0;34m,\u001b[0m\u001b[0mtest_gen\u001b[0m\u001b[0;34m]\u001b[0m\u001b[0;34m,\u001b[0m \u001b[0mtest_y\u001b[0m\u001b[0;34m,\u001b[0m \u001b[0mbatch_size\u001b[0m\u001b[0;34m=\u001b[0m\u001b[0;36m64\u001b[0m\u001b[0;34m)\u001b[0m\u001b[0;34m\u001b[0m\u001b[0;34m\u001b[0m\u001b[0m\n\u001b[0m",
            "\u001b[0;31mNameError\u001b[0m: name 'model' is not defined"
          ]
        }
      ]
    },
    {
      "cell_type": "code",
      "execution_count": null,
      "metadata": {
        "id": "XKPxeNorBF9J",
        "colab": {
          "base_uri": "https://localhost:8080/",
          "height": 295
        },
        "outputId": "408e7036-9e8c-4e6a-d897-26141b04c5d0"
      },
      "outputs": [
        {
          "output_type": "display_data",
          "data": {
            "text/plain": [
              "<Figure size 432x288 with 1 Axes>"
            ],
            "image/png": "[encoded data removed]"
          },
          "metadata": {
            "needs_background": "light"
          }
        }
      ],
      "source": []
    },
    {
      "cell_type": "code",
      "source": [
        "checkpoint =keras.callbacks.ModelCheckpoint(filepath='weights/weights.{epoch:02d}-{val_loss:.2f}.hdf5',save_weights_only=True,period=5)\n",
        "history = model.fit_generator(DataGen.flow([train_x,train_gen],train_y,batch_size=64),steps_per_epoch=np.ceil(len(train_y)/64),epochs=5,verbose=1,validation_data=([valid_x,valid_gen],valid_y))"
      ],
      "metadata": {
        "colab": {
          "base_uri": "https://localhost:8080/"
        },
        "id": "mdZiLze_7AOg",
        "outputId": "c5e794e7-5a94-4a76-9923-214d0a1e2359"
      },
      "execution_count": null,
      "outputs": [
        {
          "output_type": "stream",
          "name": "stderr",
          "text": [
            "WARNING:tensorflow:`period` argument is deprecated. Please use `save_freq` to specify the frequency in number of batches seen.\n",
            "<ipython-input-66-52ad6d3ea97d>:2: UserWarning: `Model.fit_generator` is deprecated and will be removed in a future version. Please use `Model.fit`, which supports generators.\n",
            "  history = model.fit_generator(DataGen.flow([train_x,train_gen],train_y,batch_size=64),steps_per_epoch=np.ceil(len(train_y)/64),epochs=5,verbose=1,validation_data=([valid_x,valid_gen],valid_y))\n"
          ]
        },
        {
          "output_type": "stream",
          "name": "stdout",
          "text": [
            "Epoch 1/5\n",
            "122/122 [==============================] - 113s 921ms/step - loss: 6.7474 - MAE: 6.7091 - val_loss: 8.0912 - val_MAE: 8.0726\n",
            "Epoch 2/5\n",
            "122/122 [==============================] - 110s 897ms/step - loss: 6.4942 - MAE: 6.4609 - val_loss: 8.3089 - val_MAE: 8.2899\n",
            "Epoch 3/5\n",
            "122/122 [==============================] - 111s 905ms/step - loss: 6.4983 - MAE: 6.4642 - val_loss: 8.4152 - val_MAE: 8.3739\n",
            "Epoch 4/5\n",
            "122/122 [==============================] - 112s 914ms/step - loss: 6.3918 - MAE: 6.3631 - val_loss: 7.9647 - val_MAE: 7.9406\n",
            "Epoch 5/5\n",
            "122/122 [==============================] - 112s 910ms/step - loss: 6.3538 - MAE: 6.3303 - val_loss: 7.8147 - val_MAE: 7.7986\n"
          ]
        }
      ]
    },
    {
      "cell_type": "code",
      "source": [
        "model1.load_weights('/content/drive/MyDrive/MM1_1_.h5')"
      ],
      "metadata": {
        "id": "chzJVNz6yTNr"
      },
      "execution_count": 51,
      "outputs": []
    },
    {
      "cell_type": "code",
      "source": [
        "score = model1.evaluate([test_x,test_gen], test_y, batch_size=64)"
      ],
      "metadata": {
        "colab": {
          "base_uri": "https://localhost:8080/"
        },
        "id": "01dPeO9cnhQu",
        "outputId": "84e25d82-6f42-40a2-b795-73e8dd7eb4b2"
      },
      "execution_count": 58,
      "outputs": [
        {
          "output_type": "stream",
          "name": "stdout",
          "text": [
            "24/24 [==============================] - 319s 13s/step - loss: 3.5899 - mae: 3.5899\n"
          ]
        }
      ]
    },
    {
      "cell_type": "code",
      "source": [
        "import keras.backend as K\n",
        "rand_idx = np.random.choice(range(len(test_x)), size = 6)\n",
        "\n",
        "\n",
        "# Pass some input data through the model to activate the layers\n",
        "#model1.predict(test_X[0:1])\n",
        "#attn_func = K.function(inputs = [bone_age_model.input, K.learning_phase()],\n",
        "#          outputs = [attn_layer.output]\n",
        "#          )\n",
        "last_conv_layer_name='add_13'\n",
        "#attn_func = tf.keras.models.Model( [model1.layers[0].input],[model1.layers[1].get_output_at(-1),model1.layers[-1].output])\n",
        "attn_func = tf.keras.models.Model( [model1.inputs], [model1.get_layer(last_conv_layer_name).output, model1.output])\n",
        "fig, m_axs = plt.subplots(len(rand_idx), 3, figsize = (8, 4*len(rand_idx)))\n",
        "[c_ax.axis('off') for c_ax in m_axs.flatten()]\n",
        "for c_idx, (img_ax, attn_ax,imgg_ax) in zip(rand_idx, m_axs):\n",
        "    cur_img = test_x[c_idx:(c_idx+1)]\n",
        "    gen = test_gen[c_idx:(c_idx+1)]\n",
        "    attn_img = attn_func([cur_img,gen])\n",
        "    #imgg=save_and_display_gradcam(cur_img, attn_img, cam_path=\"cam.jpg\", alpha=0.4)\n",
        "    img_ax.imshow(cur_img[0,:,:,0], cmap = 'bone')\n",
        "    #attn_ax.imshow(attn_img[0, :, :, 0], cmap = 'viridis',\n",
        "                   #vmin = 0, vmax = 1,\n",
        "                   #interpolation = 'lanczos')\n",
        "    attn_ax.imshow(attn_img[0][0, :, :, 0], cmap='viridis', vmin=0, vmax=1, interpolation='lanczos')\n",
        "\n",
        "    #attn_ax.imshow(attn_img[0, :, :, 0], cmap = 'bone',\n",
        "                  # vmin = 0, vmax = 2,\n",
        "                   #interpolation = 'lanczos')\n",
        "fig.savefig('attention_map.png', dpi = 300)"
      ],
      "metadata": {
        "colab": {
          "base_uri": "https://localhost:8080/",
          "height": 1000
        },
        "id": "lwrFygBdyL2G",
        "outputId": "2b8d1c4f-f467-4242-f87b-cbc3f65f0d9e"
      },
      "execution_count": 70,
      "outputs": [
        {
          "output_type": "display_data",
          "data": {
            "text/plain": [
              "<Figure size 800x2400 with 18 Axes>"
            ],
            "image/png": "[encoded data removed]"
          },
          "metadata": {}
        }
      ]
    },
    {
      "cell_type": "code",
      "source": [
        "import tensorflow as tf\n",
        "import numpy as np\n",
        "import matplotlib.pyplot as plt\n",
        "\n",
        "# Function to generate saliency map\n",
        "def generate_saliency_map(model, image,gen):\n",
        "    # Convert the image to a TensorFlow tensor\n",
        "    image_tensor = tf.convert_to_tensor(image)\n",
        "    gen_tensor = tf.convert_to_tensor(gen)\n",
        "    # Create a gradient tape to track the operations on the input image\n",
        "    with tf.GradientTape() as tape:\n",
        "        # Watch the input image variable\n",
        "        tape.watch(image_tensor)\n",
        "        # Forward pass through the model\n",
        "        predictions = model1([image_tensor,gen_tensor])\n",
        "\n",
        "    # Get the gradients of the predicted output with respect to the input image\n",
        "    gradients = tape.gradient(predictions, image_tensor)\n",
        "\n",
        "    # Compute the absolute gradients along the channel axis\n",
        "    gradients = tf.abs(gradients)\n",
        "    gradients = tf.reduce_max(gradients, axis=-1)\n",
        "\n",
        "    # Normalize the gradients to [0, 1]\n",
        "    gradients = (gradients - tf.reduce_min(gradients)) / (tf.reduce_max(gradients) - tf.reduce_min(gradients))\n",
        "\n",
        "    return gradients\n",
        "\n",
        "# Set parameters\n",
        "input_shape = (256, 256, 3)  # Input shape of the image\n",
        "\n",
        "\n",
        "\n",
        "# Generate saliency map\n",
        "saliency_map = generate_saliency_map(model1, test_x[5:6], test_gen[5:6])\n",
        "\n",
        "# Visualize the saliency map\n",
        "plt.imshow(saliency_map[0], cmap='viridis')\n",
        "#cv2.imwrite('cam.jpg',saliency_map[0])\n",
        "plt.axis('off')\n",
        "plt.colorbar()\n",
        "plt.show()\n"
      ],
      "metadata": {
        "colab": {
          "base_uri": "https://localhost:8080/",
          "height": 420
        },
        "id": "_NeQJjbHHygV",
        "outputId": "6524d471-7567-4958-c195-82ff55c34d36"
      },
      "execution_count": 57,
      "outputs": [
        {
          "output_type": "display_data",
          "data": {
            "text/plain": [
              "<Figure size 640x480 with 2 Axes>"
            ],
            "image/png": "[encoded data removed]"
          },
          "metadata": {}
        }
      ]
    },
    {
      "cell_type": "code",
      "source": [],
      "metadata": {
        "id": "i5GAGCcoT6FN"
      },
      "execution_count": null,
      "outputs": []
    }
  ]
}